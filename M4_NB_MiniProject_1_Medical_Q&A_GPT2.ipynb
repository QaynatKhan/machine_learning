{
  "nbformat": 4,
  "nbformat_minor": 0,
  "metadata": {
    "colab": {
      "provenance": [],
      "gpuType": "T4",
      "include_colab_link": true
    },
    "kernelspec": {
      "name": "python3",
      "display_name": "Python 3"
    },
    "language_info": {
      "name": "python"
    },
    "accelerator": "GPU"
  },
  "cells": [
    {
      "cell_type": "markdown",
      "metadata": {
        "id": "view-in-github",
        "colab_type": "text"
      },
      "source": [
        "<a href=\"https://colab.research.google.com/github/QaynatKhan/machine_learning/blob/main/M4_NB_MiniProject_1_Medical_Q%26A_GPT2.ipynb\" target=\"_parent\"><img src=\"https://colab.research.google.com/assets/colab-badge.svg\" alt=\"Open In Colab\"/></a>"
      ]
    },
    {
      "cell_type": "markdown",
      "metadata": {
        "id": "hNgLag1Euy3H"
      },
      "source": [
        "# Generative AI and Prompt Engineering\n",
        "## A programme by IISc and TalentSprint\n",
        "### Mini-Project: Medical Q&A using GPT2"
      ]
    },
    {
      "cell_type": "markdown",
      "metadata": {
        "id": "-tdtrlAhvIHY"
      },
      "source": [
        "## Learning Objectives\n",
        "\n",
        "At the end of the experiment, you will be able to:\n",
        "\n",
        "* perform data preprocessing, EDA and feature extraction on the Medical Q&A dataset\n",
        "* load a pre-trained tokenizer\n",
        "* finetune a GPT-2 language model for medical question-answering"
      ]
    },
    {
      "cell_type": "markdown",
      "source": [
        "## Dataset Description\n",
        "\n",
        "The dataset used in this project is the *Medical Question Answering Dataset* ([MedQuAD](https://github.com/abachaa/MedQuAD/tree/master)). It includes medical question-answer pairs along with additional information, such as the question type, the question *focus*, its UMLS(Unified Medical Language System) details like - Concept Unique Identifier(*CUI*) and Semantic *Type* and *Group*.\n",
        "\n",
        "To know more about this data's collection, and construction method, refer to this [paper](https://bmcbioinformatics.biomedcentral.com/articles/10.1186/s12859-019-3119-4).\n",
        "\n",
        "The data is extracted and is in CSV format with below features:\n",
        "\n",
        "- **Focus**: the question focus\n",
        "- **CUI**: concept unique identifier\n",
        "- **SemanticType**\n",
        "- **SemanticGroup**\n",
        "- **Question**\n",
        "- **Answer**"
      ],
      "metadata": {
        "id": "2nmP8OaXuO--"
      }
    },
    {
      "cell_type": "markdown",
      "metadata": {
        "id": "R7ZV5ryMP07f"
      },
      "source": [
        "## Grading = 10 Points"
      ]
    },
    {
      "cell_type": "markdown",
      "metadata": {
        "id": "4Pped-3NPaDV"
      },
      "source": [
        "## Information"
      ]
    },
    {
      "cell_type": "markdown",
      "source": [
        "Healthcare professionals often have to refer to medical literature and documents while seeking answers to medical queries. Medical databases or search engines are powerful resources of upto date medical knowledge. However, the existing documentation is large and makes it difficult for professionals to retrieve answers quickly in a clinical setting. The problem with search engines and informative retrieval engines is that these systems return a list of documents rather than answers. Instead, healthcare professionals can use question answering systems to retrieve short sentences or paragraphs in response to medical queries. Such systems have the biggest advantage of generating answers and providing hints in a few seconds."
      ],
      "metadata": {
        "id": "dW4w8T3jEPhi"
      }
    },
    {
      "cell_type": "markdown",
      "source": [
        "### Problem Statement"
      ],
      "metadata": {
        "id": "YN15WtbfwPkB"
      }
    },
    {
      "cell_type": "markdown",
      "source": [
        "Fine-tune gpt2 model on medical-question-answering-dataset for performing response generation for medical queries."
      ],
      "metadata": {
        "id": "R8_CoX7swR14"
      }
    },
    {
      "cell_type": "markdown",
      "source": [
        "### **GPT-2**\n",
        "\n",
        "In recent years, the OpenAI GPT-2 exhibited an impressive ability to write coherent and passionate essays that exceeded what current language models can produce. The GPT-2 wasn't a particularly novel architecture - its architecture is very similar to the **decoder-only transformer**. The GPT2 was, however, a very large, transformer-based language model trained on a massive dataset.\n",
        "\n",
        "Here, you are going to fine-tune the GPT2 model with the Medical data. Expected result should be that the model will be able to reply to the prompt related medical queries after fine-tuning.\n",
        "\n",
        "To know more about GPT-2, refer [here](http://jalammar.github.io/illustrated-gpt2/)."
      ],
      "metadata": {
        "id": "hK3ZixaWfhHD"
      }
    },
    {
      "cell_type": "markdown",
      "source": [
        "### Installing Dependencies"
      ],
      "metadata": {
        "id": "HYy9qF1OZo8D"
      }
    },
    {
      "cell_type": "code",
      "source": [
        "%%capture\n",
        "!pip -q uninstall pyarrow -y\n",
        "!pip -q install pyarrow==15.0.2\n",
        "!pip -q install datasets\n",
        "!pip -q install accelerate\n",
        "!pip -q install transformers"
      ],
      "metadata": {
        "id": "z0gFd0CAviBv"
      },
      "execution_count": 1,
      "outputs": []
    },
    {
      "cell_type": "markdown",
      "source": [
        "### <font color=\"#990000\">Restart Session/Runtime</font>"
      ],
      "metadata": {
        "id": "GlT9xZw4Zj9B"
      }
    },
    {
      "cell_type": "markdown",
      "metadata": {
        "id": "9RH8Ecq9sbYU"
      },
      "source": [
        "### Import required packages"
      ]
    },
    {
      "cell_type": "code",
      "source": [
        "import os\n",
        "import re\n",
        "import numpy as np\n",
        "import pandas as pd\n",
        "import matplotlib.pyplot as plt\n",
        "from sklearn.model_selection import train_test_split\n",
        "import torch\n",
        "from datasets import load_dataset\n",
        "from transformers import GPT2Tokenizer, GPT2LMHeadModel, DataCollatorForLanguageModeling\n",
        "from transformers import Trainer, TrainingArguments\n",
        "\n",
        "import warnings\n",
        "warnings.filterwarnings('ignore')"
      ],
      "metadata": {
        "id": "JfqnHAnMYfWF"
      },
      "execution_count": 2,
      "outputs": []
    },
    {
      "cell_type": "code",
      "source": [
        "#@title Download the dataset\n",
        "!wget -q https://cdn.iisc.talentsprint.com/AIandMLOps/MiniProjects/Datasets/MedQuAD.csv\n",
        "!ls | grep \".csv\""
      ],
      "metadata": {
        "cellView": "form",
        "id": "G0_3Qr2nI7B6",
        "colab": {
          "base_uri": "https://localhost:8080/"
        },
        "outputId": "66a6cb5f-8d95-4be1-c6b2-cd2cf63a7fb7"
      },
      "execution_count": 3,
      "outputs": [
        {
          "output_type": "stream",
          "name": "stdout",
          "text": [
            "MedQuAD.csv\n",
            "MedQuAD.csv.1\n",
            "MedQuAD.csv.2\n"
          ]
        }
      ]
    },
    {
      "cell_type": "markdown",
      "metadata": {
        "id": "T3FkLI6wcaat"
      },
      "source": [
        "**Exercise 1: Read the MedQuAD.csv dataset**\n",
        "\n",
        "**Hint:** `pd.read_csv()`"
      ]
    },
    {
      "cell_type": "code",
      "source": [
        "# Download dataset\n",
        "!wget -q https://cdn.iisc.talentsprint.com/AIandMLOps/MiniProjects/Datasets/MedQuAD.csv\n",
        "\n",
        "# Read dataset\n",
        "data = pd.read_csv(\"MedQuAD.csv\")"
      ],
      "metadata": {
        "id": "m8Uwi8cYJ0Ia"
      },
      "execution_count": 4,
      "outputs": []
    },
    {
      "cell_type": "markdown",
      "metadata": {
        "id": "QvddL7X69NiB"
      },
      "source": [
        "### Pre-processing and EDA"
      ]
    },
    {
      "cell_type": "markdown",
      "source": [
        "**Exercise 2: Perform below operations on the dataset [1 Mark]**\n",
        "\n",
        "- Handle missing values\n",
        "- Remove duplicates from data considering `Question` and `Answer` columns"
      ],
      "metadata": {
        "id": "xgB7KCn88Vmj"
      }
    },
    {
      "cell_type": "markdown",
      "source": [
        "- **Handle missing values**"
      ],
      "metadata": {
        "id": "TkabbxoGKFkm"
      }
    },
    {
      "cell_type": "code",
      "source": [
        "# Handle missing values\n",
        "data = data.dropna()"
      ],
      "metadata": {
        "id": "H6mM7DM1KH_i"
      },
      "execution_count": 5,
      "outputs": []
    },
    {
      "cell_type": "markdown",
      "source": [
        "- **Remove duplicates from data considering `Question` and `Answer` columns**"
      ],
      "metadata": {
        "id": "0KpssAWUBiok"
      }
    },
    {
      "cell_type": "code",
      "source": [
        "# Remove duplicates based on 'Question' and 'Answer'\n",
        "data = data.drop_duplicates(subset=['Question', 'Answer'])"
      ],
      "metadata": {
        "id": "YEv2TMQPs-Ku"
      },
      "execution_count": 6,
      "outputs": []
    },
    {
      "cell_type": "markdown",
      "metadata": {
        "id": "EA1d25HrzTGW"
      },
      "source": [
        "**Exercise 3: Display the category name, and the number of records belonging to top 100 categories of `Focus` column [1 Mark]**"
      ]
    },
    {
      "cell_type": "code",
      "source": [
        "# Total categories in Focus column\n",
        "# Count the total number of distinct categories in the 'Focus' column\n",
        "total_categories = data['Focus'].nunique()\n",
        "\n",
        "# Display the total count of distinct categories\n",
        "print(\"Total distinct categories in 'Focus' column:\", total_categories)"
      ],
      "metadata": {
        "id": "kRxuMduGSWYB",
        "colab": {
          "base_uri": "https://localhost:8080/"
        },
        "outputId": "31929535-9cb0-4e98-d96e-36c9ab711656"
      },
      "execution_count": 7,
      "outputs": [
        {
          "output_type": "stream",
          "name": "stdout",
          "text": [
            "Total distinct categories in 'Focus' column: 4770\n"
          ]
        }
      ]
    },
    {
      "cell_type": "code",
      "metadata": {
        "id": "YtIjY7ji9va5",
        "colab": {
          "base_uri": "https://localhost:8080/"
        },
        "outputId": "3a069d55-d4bb-4981-b9ee-070d86f28254"
      },
      "source": [
        "# Displaying the distinct categories of Focus column and the number of records belonging to each category\n",
        "# (Top 100 only)\n",
        "\n",
        "# Count the occurrences of each category in the 'Focus' column\n",
        "category_counts = data['Focus'].value_counts()\n",
        "\n",
        "# Get the top 100 distinct categories\n",
        "top_100_categories = category_counts.head(100)\n",
        "\n",
        "# Create a DataFrame for better visualization\n",
        "top_100_df = top_100_categories.reset_index()\n",
        "top_100_df.columns = ['Category', 'Number of Records']\n",
        "\n",
        "# Display the top 100 categories and their counts\n",
        "print(top_100_df)"
      ],
      "execution_count": 8,
      "outputs": [
        {
          "output_type": "stream",
          "name": "stdout",
          "text": [
            "                                             Category  Number of Records\n",
            "0                                       Breast Cancer                 53\n",
            "1                                     Prostate Cancer                 43\n",
            "2                                              Stroke                 35\n",
            "3                                         Skin Cancer                 34\n",
            "4                                 Alzheimer's Disease                 30\n",
            "..                                                ...                ...\n",
            "95                                        Sarcoidosis                 11\n",
            "96                                  Polycythemia Vera                 11\n",
            "97                                     Celiac Disease                 11\n",
            "98                                      Down syndrome                 10\n",
            "99  Microscopic Colitis: Collagenous Colitis and L...                 10\n",
            "\n",
            "[100 rows x 2 columns]\n"
          ]
        }
      ]
    },
    {
      "cell_type": "code",
      "source": [
        "# Top 100 Focus categories names\n",
        "\n",
        "# Get the top 100 distinct category names\n",
        "top_100_categories = category_counts.head(100).index.tolist()\n",
        "\n",
        "# Display the top 100 category names\n",
        "print(\"Top 100 Focus Categories:\")\n",
        "for category in top_100_categories:\n",
        "    print(category)"
      ],
      "metadata": {
        "id": "_Xa8jp6AKVkC",
        "colab": {
          "base_uri": "https://localhost:8080/"
        },
        "outputId": "e8597bc7-ba55-4839-a3df-6d493147685c"
      },
      "execution_count": 9,
      "outputs": [
        {
          "output_type": "stream",
          "name": "stdout",
          "text": [
            "Top 100 Focus Categories:\n",
            "Breast Cancer\n",
            "Prostate Cancer\n",
            "Stroke\n",
            "Skin Cancer\n",
            "Alzheimer's Disease\n",
            "Colorectal Cancer\n",
            "Lung Cancer\n",
            "High Blood Cholesterol\n",
            "Heart Failure\n",
            "Heart Attack\n",
            "High Blood Pressure\n",
            "Parkinson's Disease\n",
            "Leukemia\n",
            "Shingles\n",
            "Osteoporosis\n",
            "Age-related Macular Degeneration\n",
            "Diabetes\n",
            "Hemochromatosis\n",
            "Diabetic Retinopathy\n",
            "Gum (Periodontal) Disease\n",
            "Psoriasis\n",
            "Kidney Disease\n",
            "Balance Problems\n",
            "Dry Mouth\n",
            "COPD\n",
            "Cataract\n",
            "Glaucoma\n",
            "Prescription and Illicit Drug Abuse\n",
            "Medicare and Continuing Care\n",
            "Gout\n",
            "Wilson Disease\n",
            "Osteoarthritis\n",
            "Narcolepsy\n",
            "Problems with Taste\n",
            "Endometrial Cancer\n",
            "Neuroblastoma\n",
            "Short Bowel Syndrome\n",
            "Rheumatoid Arthritis\n",
            "Dry Eye\n",
            "Peripheral Arterial Disease (P.A.D.)\n",
            "Anxiety Disorders\n",
            "Surviving Cancer\n",
            "Pituitary Tumors\n",
            "Kidney Dysplasia\n",
            "Problems with Smell\n",
            "Urinary Tract Infections in Children\n",
            "Prostate Enlargement: Benign Prostatic Hyperplasia\n",
            "Depression\n",
            "Knee Replacement\n",
            "National Hormone and Pituitary Program (NHPP): Information for People Treated with Pituitary Human Growth Hormone (Comprehensive Report)\n",
            "Cyclic Vomiting Syndrome\n",
            "Abdominal Adhesions\n",
            "Polycystic Kidney Disease\n",
            "Creating a Family Health History\n",
            "What I need to know about Kidney Failure and How Its Treated\n",
            "Diabetic Neuropathies: The Nerve Damage of Diabetes\n",
            "Adrenal Insufficiency and Addison's Disease\n",
            "Amyloidosis and Kidney Disease\n",
            "Nutrition for Advanced Chronic Kidney Disease in Adults\n",
            "Medullary Sponge Kidney\n",
            "Vesicoureteral Reflux\n",
            "IgA Nephropathy\n",
            "Urinary Retention\n",
            "Diabetes, Heart Disease, and Stroke\n",
            "Diverticular Disease\n",
            "Alcohol Use and Older Adults\n",
            "Alzheimer's Caregiving\n",
            "Sleep Apnea\n",
            "Urinary Incontinence\n",
            "Camurati-Engelmann disease\n",
            "Paget's Disease of Bone\n",
            "Porphyria\n",
            "Klinefelter syndrome\n",
            "Bartter syndrome\n",
            "Opitz G/BBB syndrome\n",
            "MECP2 duplication syndrome\n",
            "Gallstones\n",
            "Liddle syndrome\n",
            "Laron syndrome\n",
            "Langerhans cell histiocytosis\n",
            "Huntington disease\n",
            "Poland syndrome\n",
            "Holt-Oram syndrome\n",
            "Greig cephalopolysyndactyly syndrome\n",
            "GM1 gangliosidosis\n",
            "Ehlers-Danlos syndrome\n",
            "Danon disease\n",
            "Cowden syndrome\n",
            "Cornelia de Lange syndrome\n",
            "Peters plus syndrome\n",
            "Alagille Syndrome\n",
            "Wolfram syndrome\n",
            "Prader-Willi syndrome\n",
            "21-hydroxylase deficiency\n",
            "Cushing's Syndrome\n",
            "Sarcoidosis\n",
            "Polycythemia Vera\n",
            "Celiac Disease\n",
            "Down syndrome\n",
            "Microscopic Colitis: Collagenous Colitis and Lymphocytic Colitis\n"
          ]
        }
      ]
    },
    {
      "cell_type": "markdown",
      "source": [
        "### Create Training and Validation set"
      ],
      "metadata": {
        "id": "clJZkJLzwDWR"
      }
    },
    {
      "cell_type": "markdown",
      "source": [
        "**Exercise 4: Create training and validation set [1 Mark]**\n",
        "\n",
        "- Consider 4 samples per `Focus` category, for each top 100 categories, from the dataset (It will give 400 samples for training)\n",
        "\n",
        "- Consider 1 sample per `Focus` category (different from training set), for each top 100 categories, from the dataset (It will give 100 samples for validation)"
      ],
      "metadata": {
        "id": "JDQOWgthKgGG"
      }
    },
    {
      "cell_type": "code",
      "source": [
        "# YOUR CODE HERE\n",
        "# Get the top 100 distinct categories\n",
        "top_100_categories = category_counts.head(100).index.tolist()\n",
        "\n",
        "# Initialize lists to hold training and validation samples\n",
        "train_samples = []\n",
        "val_samples = []\n",
        "\n",
        "# Iterate over each category in the top 100\n",
        "for category in top_100_categories:\n",
        "    # Filter the data for the current category\n",
        "    category_data = data[data['Focus'] == category]\n",
        "\n",
        "    # Sample 4 records for the training set (with replacement)\n",
        "    train_sample = category_data.sample(n=4, random_state=42, replace=False)\n",
        "    train_samples.append(train_sample)\n",
        "\n",
        "    # Sample 1 record for the validation set (different from training set)\n",
        "    val_sample = category_data.drop(train_sample.index).sample(n=1, random_state=42, replace=False)\n",
        "    val_samples.append(val_sample)\n",
        "\n",
        "# Combine all training and validation samples into DataFrames\n",
        "train_set = pd.concat(train_samples, ignore_index=True)\n",
        "val_set = pd.concat(val_samples, ignore_index=True)\n",
        "\n",
        "# Display the shapes of the training and validation sets\n",
        "print(\"Training Set Shape:\", train_set.shape)\n",
        "print(\"Validation Set Shape:\", val_set.shape)\n",
        "\n"
      ],
      "metadata": {
        "id": "CWoHsbibKtdo",
        "colab": {
          "base_uri": "https://localhost:8080/"
        },
        "outputId": "ac282acb-4596-4734-f637-227c55bcd3cf"
      },
      "execution_count": 10,
      "outputs": [
        {
          "output_type": "stream",
          "name": "stdout",
          "text": [
            "Training Set Shape: (400, 6)\n",
            "Validation Set Shape: (100, 6)\n"
          ]
        }
      ]
    },
    {
      "cell_type": "markdown",
      "source": [
        "### Pre-process `Question` and `Answer` text\n",
        "\n",
        "**Exercise 5: Perform below tasks:  [1 Mark]**\n",
        "\n",
        "- Combine `Question` and `Answer` for train and validation data as shown below:\n",
        "    - sequence = *'\\<question\\>' + question-text + '\\<answer\\>' + answer-text + '\\<end\\>'*\n",
        "\n",
        "- Join the combined text using '\\n' into a single string for training and validation separately\n",
        "\n",
        "- Save the training and validation strings as separate text files"
      ],
      "metadata": {
        "id": "YxjnEkqScZEJ"
      }
    },
    {
      "cell_type": "markdown",
      "source": [
        "- **Combine Question and Answer for train and val data**"
      ],
      "metadata": {
        "id": "48ieeFrU0vmF"
      }
    },
    {
      "cell_type": "code",
      "source": [
        "# Combine Questions and Answers for train and val data\n",
        "## sequence = '<question> ' + question + ' <answer> ' + answer + ' <end>'\n",
        "\n",
        "# Combine Question and Answer for training set\n",
        "train_set['combined'] = '   <question>   ' + train_set['Question'] + '   <answer>   ' + train_set['Answer'] + '<end>'\n",
        "\n",
        "# Combine Question and Answer for validation set\n",
        "val_set['combined'] = '   <question>   ' + val_set['Question'] + '   <answer>   ' + val_set['Answer'] + '<end>'\n",
        "\n",
        "\n",
        "print(\"Training and validation data pre-processed and saved successfully.\")"
      ],
      "metadata": {
        "id": "nxT84SYwONaR",
        "colab": {
          "base_uri": "https://localhost:8080/"
        },
        "outputId": "ebe87bd1-a28b-4df7-b66d-4b282873899c"
      },
      "execution_count": 29,
      "outputs": [
        {
          "output_type": "stream",
          "name": "stdout",
          "text": [
            "Training and validation data pre-processed and saved successfully.\n"
          ]
        }
      ]
    },
    {
      "cell_type": "code",
      "source": [
        "# Print one example from the training set\n",
        "print(\"\\nExample from Training Set:\")\n",
        "print(train_set['combined'].iloc[10])  # Display the first combined example\n",
        "\n",
        "# Print one example from the validation set\n",
        "print(\"\\nExample from Validation Set:\")\n",
        "print(val_set['combined'].iloc[20])  # Display the first combined example\n"
      ],
      "metadata": {
        "colab": {
          "base_uri": "https://localhost:8080/"
        },
        "id": "kyVWH-CyMXY3",
        "outputId": "d120b027-8d9d-493d-92d0-40b9a0082445"
      },
      "execution_count": 30,
      "outputs": [
        {
          "output_type": "stream",
          "name": "stdout",
          "text": [
            "\n",
            "Example from Training Set:\n",
            "   <question>   What are the treatments for Stroke ?   <answer>   Surgery Surgery can be used to prevent stroke, to treat stroke, or to repair damage to the blood vessels or malformations in and around the brain. - Carotid endarterectomy is a surgical procedure in which a surgeon removes fatty deposits, or plaque, from the inside of one of the carotid arteries. The procedure is performed to prevent stroke. The carotid arteries are located in the neck and are the main suppliers of blood to the brain. Carotid endarterectomy is a surgical procedure in which a surgeon removes fatty deposits, or plaque, from the inside of one of the carotid arteries. The procedure is performed to prevent stroke. The carotid arteries are located in the neck and are the main suppliers of blood to the brain. Vascular Interventions In addition to surgery, a variety of techniques have been developed to allow certain vascular problems to be treated from inside the artery using specialized catheters with the goal of improving blood flow. (Vascular is a word that refers to blood vessels, arteries, and veins that carry blood throughout the body.) A catheter is a very thin, flexible tube that can be inserted into one of the major arteries of the leg or arm and then directed through the blood vessels to the diseased artery. Physicians trained in this technique called angiography undergo additional training to treat problems in the arteries of the brain or spinal cord. These physicians are called neurointerventionalists. - Angioplasty is widely used by angiographers to open blocked heart arteries, and is also used to prevent stroke. Angioplasty is a procedure in which a special catheter is inserted into the narrowed artery and then a balloon at the tip of the catheter is inflated to open the blocked artery. The procedure improves blood flow to the brain. Angioplasty is widely used by angiographers to open blocked heart arteries, and is also used to prevent stroke. Angioplasty is a procedure in which a special catheter is inserted into the narrowed artery and then a balloon at the tip of the catheter is inflated to open the blocked artery. The procedure improves blood flow to the brain. - Stenting is another procedure used to prevent stroke. In this procedure an angiographer inserts a catheter into the artery in the groin and then positions the tip of the catheter inside the narrowed artery. A stent is a tube-like device made of a mesh-like material that can be slipped into position over the catheter. When positioned inside the narrowed segment the stent is expanded to widen the artery and the catheter is removed. Angioplasty or stenting of the carotid artery can cause pieces of the diseased plaque to loosen. An umbrella-like device is often temporarily expanded above to prevent these pieces from traveling to the brain. Stenting is another procedure used to prevent stroke. In this procedure an angiographer inserts a catheter into the artery in the groin and then positions the tip of the catheter inside the narrowed artery. A stent is a tube-like device made of a mesh-like material that can be slipped into position over the catheter. When positioned inside the narrowed segment the stent is expanded to widen the artery and the catheter is removed. Angioplasty or stenting of the carotid artery can cause pieces of the diseased plaque to loosen. An umbrella-like device is often temporarily expanded above to prevent these pieces from traveling to the brain. - Angiographers also sometimes use clot removal devices to treat stroke patients in the very early stage. One device involves threading a catheter through the artery to the site of the blockage and then vacuuming out the clot. Another corkscrew-like device can be extended from the tip of a catheter and used to grab the clot and pull it out. Drugs can also be injected through the catheter directly into the clot to help dissolve the clot. Angiographers also sometimes use clot removal devices to treat stroke patients in the very early stage. One device involves threading a catheter through the artery to the site of the blockage and then vacuuming out the clot. Another corkscrew-like device can be extended from the tip of a catheter and used to grab the clot and pull it out. Drugs can also be injected through the catheter directly into the clot to help dissolve the clot.<end>\n",
            "\n",
            "Example from Validation Set:\n",
            "   <question>   What are the treatments for Psoriasis ?   <answer>   Topical treatments are those that are applied directly to the skin. Topical treatments for psoriasis include - salicylic acid, - steroid-based creams - calcipotriene-containing ointment - anthralin - coal-tar ointments and shampoos - and vitamin D analogues. salicylic acid, steroid-based creams calcipotriene-containing ointment anthralin coal-tar ointments and shampoos and vitamin D analogues.<end>\n"
          ]
        }
      ]
    },
    {
      "cell_type": "markdown",
      "source": [
        "- **Join the combined text using '\\n' into a single string for training and validation separately**"
      ],
      "metadata": {
        "id": "Uzny8Cci1ZOw"
      }
    },
    {
      "cell_type": "code",
      "source": [
        "# Train and Validation text for all Q&As\n",
        "# Join the combined text for the training set\n",
        "train_text = '\\n'.join(train_set['combined'].tolist())\n",
        "\n",
        "# Join the combined text for the validation set\n",
        "val_text = '\\n'.join(val_set['combined'].tolist())\n",
        "\n",
        "# Print lengths of the combined strings for verification\n",
        "print(\"Length of training text:\", len(train_text))\n",
        "print(\"Length of validation text:\", len(val_text))\n"
      ],
      "metadata": {
        "id": "vwKbaMAfPCM_",
        "colab": {
          "base_uri": "https://localhost:8080/"
        },
        "outputId": "91d8f515-a146-45a9-d56c-05cf88225e74"
      },
      "execution_count": 31,
      "outputs": [
        {
          "output_type": "stream",
          "name": "stdout",
          "text": [
            "Length of training text: 570777\n",
            "Length of validation text: 201820\n"
          ]
        }
      ]
    },
    {
      "cell_type": "markdown",
      "source": [
        "- **Save the training and validation strings as text files**"
      ],
      "metadata": {
        "id": "GJZ9GHGSwNtm"
      }
    },
    {
      "cell_type": "code",
      "source": [
        "# Save the training and validation data as text files\n",
        "\n",
        "# Save the training text to a file\n",
        "with open(\"train_data.txt\", \"w\") as train_file:\n",
        "    train_file.write(train_text)\n",
        "\n",
        "# Save the validation text to a file\n",
        "with open(\"val_data.txt\", \"w\") as val_file:\n",
        "    val_file.write(val_text)\n",
        "\n",
        "print(\"Training and validation data saved to 'train_data.txt' and 'val_data.txt'.\")\n",
        "\n",
        "# Print a few samples from the training data\n",
        "print(\"\\nSample Training Data:\")\n",
        "train_samples = train_text.split('\\n')[:5]  # Get the first 5 samples\n",
        "for i, sample in enumerate(train_samples):\n",
        "    print(f\"Sample {i + 1}: {sample}\")\n",
        "\n",
        "# Print a few samples from the validation data\n",
        "print(\"\\nSample Validation Data:\")\n",
        "val_samples = val_text.split('\\n')[:5]  # Get the first 5 samples\n",
        "for i, sample in enumerate(val_samples):\n",
        "    print(f\"Sample {i + 1}: {sample}\")\n"
      ],
      "metadata": {
        "id": "pLQaAIhYMRvj",
        "colab": {
          "base_uri": "https://localhost:8080/"
        },
        "outputId": "768298be-8ae7-42ae-bfee-4d7fa2d9d1b1"
      },
      "execution_count": 32,
      "outputs": [
        {
          "output_type": "stream",
          "name": "stdout",
          "text": [
            "Training and validation data saved to 'train_data.txt' and 'val_data.txt'.\n",
            "\n",
            "Sample Training Data:\n",
            "Sample 1:    <question>   Who is at risk for Breast Cancer? ?   <answer>   Key Points - Avoiding risk factors and increasing protective factors may help prevent cancer. - The following are risk factors for breast cancer: - Older age - A personal history of breast cancer or benign (noncancer) breast disease - Inherited risk of breast cancer - Dense breasts - Exposure of breast tissue to estrogen made in the body - Taking hormone therapy for symptoms of menopause - Radiation therapy to the breast or chest - Obesity - Drinking alcohol - The following are protective factors for breast cancer: - Less exposure of breast tissue to estrogen made by the body - Taking estrogen-only hormone therapy after hysterectomy, selective estrogen receptor modulators, or aromatase inhibitors and inactivators - Estrogen-only hormone therapy after hysterectomy - Selective estrogen receptor modulators - Aromatase inhibitors and inactivators - Risk-reducing mastectomy - Ovarian ablation - Getting enough exercise - It is not clear whether the following affect the risk of breast cancer: - Oral contraceptives - Environment - Studies have shown that some factors do not affect the risk of breast cancer. - Cancer prevention clinical trials are used to study ways to prevent cancer. - New ways to prevent breast cancer are being studied in clinical trials. Avoiding risk factors and increasing protective factors may help prevent cancer. Avoiding cancer risk factors may help prevent certain cancers. Risk factors include smoking, being overweight, and not getting enough exercise. Increasing protective factors such as quitting smoking and exercising may also help prevent some cancers. Talk to your doctor or other health care professional about how you might lower your risk of cancer. NCI's Breast Cancer Risk Assessment Tool uses a woman's risk factors to estimate her risk for breast cancer during the next five years and up to age 90. This online tool is meant to be used by a health care provider. For more information on breast cancer risk, call 1-800-4-CANCER. The following are risk factors for breast cancer: Older age Older age is the main risk factor for most cancers. The chance of getting cancer increases as you get older. A personal history of breast cancer or benign (noncancer) breast disease Women with any of the following have an increased risk of breast cancer: - A personal history of invasive breast cancer, ductal carcinoma in situ (DCIS), or lobular carcinoma in situ (LCIS). - A personal history of benign (noncancer) breast disease. Inherited risk of breast cancer Women with a family history of breast cancer in a first-degree relative (mother, sister, or daughter) have an increased risk of breast cancer. Women who have inherited changes in the BRCA1 and BRCA2 genes or in certain other genes have a higher risk of breast cancer. The risk of breast cancer caused by inherited gene changes depends on the type of gene mutation, family history of cancer, and other factors. Dense breasts Having breast tissue that is dense on a mammogram is a factor in breast cancer risk. The level of risk depends on how dense the breast tissue is. Women with very dense breasts have a higher risk of breast cancer than women with low breast density. Increased breast density is often an inherited trait, but it may also occur in women who have not had children, have a first pregnancy late in life, take postmenopausal hormones, or drink alcohol. Exposure of breast tissue to estrogen made in the body Estrogen is a hormone made by the body. It helps the body develop and maintain female sex characteristics. Being exposed to estrogen over a long time may increase the risk of breast cancer. Estrogen levels are highest during the years a woman is menstruating. A woman's exposure to estrogen is increased in the following ways: - Early menstruation: Beginning to have menstrual periods at age 11 or younger increases the number of years the breast tissue is exposed to estrogen. - Starting menopause at a later age: The more years a woman menstruates, the longer her breast tissue is exposed to estrogen. - Older age at first birth or never having given birth: Because estrogen levels are lower during pregnancy, breast tissue is exposed to more estrogen in women who become pregnant for the first time after age 35 or who never become pregnant. Taking hormone therapy for symptoms of menopause Hormones, such as estrogen and progesterone, can be made into a pill form in a laboratory. Estrogen, progestin, or both may be given to replace the estrogen no longer made by the ovaries in postmenopausal women or women who have had their ovaries removed. This is called hormone replacement therapy (HRT) or hormone therapy (HT). Combination HRT/HT is estrogen combined with progestin. This type of HRT/HT increases the risk of breast cancer. Studies show that when women stop taking estrogen combined with progestin, the risk of breast cancer decreases. Radiation therapy to the breast or chest Radiation therapy to the chest for the treatment of cancer increases the risk of breast cancer, starting 10 years after treatment. The risk of breast cancer depends on the dose of radiation and the age at which it is given. The risk is highest if radiation treatment was used during puberty, when breasts are forming. Radiation therapy to treat cancer in one breast does not appear to increase the risk of cancer in the other breast. For women who have inherited changes in the BRCA1 and BRCA2 genes, exposure to radiation, such as that from chest x-rays, may further increase the risk of breast cancer, especially in women who were x-rayed before 20 years of age. Obesity Obesity increases the risk of breast cancer, especially in postmenopausal women who have not used hormone replacement therapy. Drinking alcohol Drinking alcohol increases the risk of breast cancer. The level of risk rises as the amount of alcohol consumed rises. The following are protective factors for breast cancer: Less exposure of breast tissue to estrogen made by the body Decreasing the length of time a woman's breast tissue is exposed to estrogen may help prevent breast cancer. Exposure to estrogen is reduced in the following ways: - Early pregnancy: Estrogen levels are lower during pregnancy. Women who have a full-term pregnancy before age 20 have a lower risk of breast cancer than women who have not had children or who give birth to their first child after age 35. - Breast-feeding: Estrogen levels may remain lower while a woman is breast-feeding. Women who breastfed have a lower risk of breast cancer than women who have had children but did not breastfeed. Taking estrogen-only hormone therapy after hysterectomy, selective estrogen receptor modulators, or aromatase inhibitors and inactivators Estrogen-only hormone therapy after hysterectomy Hormone therapy with estrogen only may be given to women who have had a hysterectomy. In these women, estrogen-only therapy after menopause may decrease the risk of breast cancer. There is an increased risk of stroke and heart and blood vessel disease in postmenopausal women who take estrogen after a hysterectomy. Selective estrogen receptor modulators Tamoxifen and raloxifene belong to the family of drugs called selective estrogen receptor modulators (SERMs). SERMs act like estrogen on some tissues in the body, but block the effect of estrogen on other tissues. Treatment with tamoxifen lowers the risk of estrogen receptor-positive (ER-positive) breast cancer and ductal carcinoma in situ in premenopausal and postmenopausal women at high risk. Treatment with raloxifene also lowers the risk of breast cancer in postmenopausal women. With either drug, the reduced risk lasts for several years or longer after treatment is stopped. Lower rates of broken bones have been noted in patients taking raloxifene. Taking tamoxifen increases the risk of hot flashes, endometrial cancer, stroke, cataracts, and blood clots (especially in the lungs and legs). The risk of having these problems increases markedly in women older than 50 years compared with younger women. Women younger than 50 years who have a high risk of breast cancer may benefit the most from taking tamoxifen. The risk of having these problems decreases after tamoxifen is stopped. Talk with your doctor about the risks and benefits of taking this drug. Taking raloxifene increases the risk of blood clots in the lungs and legs, but does not appear to increase the risk of endometrial cancer. In postmenopausal women with osteoporosis (decreased bone density), raloxifene lowers the risk of breast cancer for women who have a high or low risk of breast cancer. It is not known if raloxifene would have the same effect in women who do not have osteoporosis. Talk with your doctor about the risks and benefits of taking this drug. Other SERMs are being studied in clinical trials. Aromatase inhibitors and inactivators Aromatase inhibitors (anastrozole, letrozole) and inactivators (exemestane) lower the risk of recurrence and of new breast cancers in women who have a history of breast cancer. Aromatase inhibitors also decrease the risk of breast cancer in women with the following conditions: - Postmenopausal women with a personal history of breast cancer. - Women with no personal history of breast cancer who are 60 years and older, have a history of ductal carcinoma in situ with mastectomy, or have a high risk of breast cancer based on the Gail model tool (a tool used to estimate the risk of breast cancer). In women with an increased risk of breast cancer, taking aromatase inhibitors decreases the amount of estrogen made by the body. Before menopause, estrogen is made by the ovaries and other tissues in a woman's body, including the brain, fat tissue, and skin. After menopause, the ovaries stop making estrogen, but the other tissues do not. Aromatase inhibitors block the action of an enzyme called aromatase, which is used to make all of the body's estrogen. Aromatase inactivators stop the enzyme from working. Possible harms from taking aromatase inhibitors include muscle and joint pain, osteoporosis, hot flashes, and feeling very tired. Risk-reducing mastectomy Some women who have a high risk of breast cancer may choose to have a risk-reducing mastectomy (the removal of both breasts when there are no signs of cancer). The risk of breast cancer is much lower in these women and most feel less anxious about their risk of breast cancer. However, it is very important to have a cancer risk assessment and counseling about the different ways to prevent breast cancer before making this decision. Ovarian ablation The ovaries make most of the estrogen that is made by the body. Treatments that stop or lower the amount of estrogen made by the ovaries include surgery to remove the ovaries, radiation therapy, or taking certain drugs. This is called ovarian ablation. Premenopausal women who have a high risk of breast cancer due to certain changes in the BRCA1 and BRCA2 genes may choose to have a risk-reducing oophorectomy (the removal of both ovaries when there are no signs of cancer). This decreases the amount of estrogen made by the body and lowers the risk of breast cancer. Risk-reducing oophorectomy also lowers the risk of breast cancer in normal premenopausal women and in women with an increased risk of breast cancer due to radiation to the chest. However, it is very important to have a cancer risk assessment and counseling before making this decision. The sudden drop in estrogen levels may cause the symptoms of menopause to begin. These include hot flashes, trouble sleeping, anxiety, and depression. Long-term effects include decreased sex drive, vaginal dryness, and decreased bone density. Getting enough exercise Women who exercise four or more hours a week have a lower risk of breast cancer. The effect of exercise on breast cancer risk may be greatest in premenopausal women who have normal or low body weight. It is not clear whether the following affect the risk of breast cancer: Oral contraceptives Certain oral contraceptives contain estrogen. Some studies have shown that taking oral contraceptives (\"the pill\") may slightly increase the risk of breast cancer in current users. This risk decreases over time. Other studies have not shown an increased risk of breast cancer in women who take oral contraceptives. Progestin -only contraceptives that are injected or implanted do not appear to increase the risk of breast cancer. More studies are needed to know whether progestin-only oral contraceptives increase the risk of breast cancer. Environment Studies have not proven that being exposed to certain substances in the environment, such as chemicals, increases the risk of breast cancer. Studies have shown that some factors do not affect the risk of breast cancer. The following do not affect the risk of breast cancer: - Having an abortion. - Making diet changes such as eating less fat or more fruits and vegetables. - Taking vitamins, including fenretinide (a type of vitamin A). - Cigarette smoking, both active and passive (inhaling secondhand smoke). - Using underarm deodorant or antiperspirant. - Taking statins (cholesterol -lowering drugs). - Taking bisphosphonates (drugs used to treat osteoporosis and hypercalcemia) by mouth or by intravenous infusion.<end>\n",
            "Sample 2:    <question>   What is (are) Breast Cancer ?   <answer>   A mammogram can often detect breast changes in women who have no signs of breast cancer. Often, it can find a breast lump before it can be felt. If the results indicate that cancer might be present, your doctor will advise you to have a follow-up test called a biopsy.<end>\n",
            "Sample 3:    <question>   What is (are) Breast Cancer ?   <answer>   There are two types of breast-conserving surgery -- lumpectomy and partial mastectomy. - Lumpectomy is the removal of the tumor and a small amount of normal tissue around it. A woman who has a lumpectomy almost always has radiation therapy as well. Most surgeons also take out some of the lymph nodes under the arm. Lumpectomy is the removal of the tumor and a small amount of normal tissue around it. A woman who has a lumpectomy almost always has radiation therapy as well. Most surgeons also take out some of the lymph nodes under the arm. - Partial or segmental mastectomy is removal of the cancer, some of the breast tissue around the tumor, and the lining over the chest muscles below the tumor. Often, surgeons remove some of the lymph nodes under the arm. In most cases, radiation therapy follows. Partial or segmental mastectomy is removal of the cancer, some of the breast tissue around the tumor, and the lining over the chest muscles below the tumor. Often, surgeons remove some of the lymph nodes under the arm. In most cases, radiation therapy follows.<end>\n",
            "Sample 4:    <question>   What are the symptoms of Breast Cancer ?   <answer>   Signs of breast cancer include a lump or change in the breast. These and other signs may be caused by breast cancer or by other conditions. Check with your doctor if you have any of the following: - A lump or thickening in or near the breast or in the underarm area. - A change in the size or shape of the breast. - A dimple or puckering in the skin of the breast. - A nipple turned inward into the breast. - Fluid, other than breast milk, from the nipple, especially if it's bloody. - Scaly, red, or swollen skin on the breast, nipple, or areola (the dark area of skin around the nipple). - Dimples in the breast that look like the skin of an orange, called peau dorange. It may be difficult to detect (find) breast cancer early in pregnant or nursing women. The breasts usually get larger, tender, or lumpy in women who are pregnant, nursing, or have just given birth. This occurs because of normal hormone changes that take place during pregnancy. These changes can make small lumps difficult to detect. The breasts may also become denser. It is more difficult to detect breast cancer in women with dense breasts using mammography. Because these breast changes can delay diagnosis, breast cancer is often found at a later stage in these women.<end>\n",
            "Sample 5:    <question>   What is (are) Prostate Cancer ?   <answer>   Surgery is a common treatment for early stage prostate cancer. It is used to remove the cancer. The surgeon may remove the entire prostate -- a type of surgery called radical prostatectomy -- or, in some cases, remove only part of it. Sometimes the surgeon will also remove nearby lymph nodes. Side effects may include lack of sexual function (impotence), or problems holding urine (incontinence).<end>\n",
            "\n",
            "Sample Validation Data:\n",
            "Sample 1:    <question>   What is the outlook for Breast Cancer ?   <answer>   Certain factors affect prognosis (chance of recovery) and treatment options.The prognosis (chance of recovery) and treatment options depend on the following: - The stage of the cancer (the size of the tumor and whether it is in the breast only or has spread to other parts of the body). - The type of breast cancer. - The age of the unborn baby. - Whether there are signs or symptoms. - The patients general health.<end>\n",
            "Sample 2:    <question>   What are the treatments for Prostate Cancer ?   <answer>   Surgery, radiation therapy, and hormonal therapy all have the potential to disrupt sexual desire or performance for a short while or permanently. Discuss your concerns with your health care provider. Several options are available to help you manage sexual problems related to prostate cancer treatment.<end>\n",
            "Sample 3:    <question>   What are the symptoms of Stroke ?   <answer>   The signs and symptoms of a stroke often develop quickly. However, they can develop over hours or even days. The type of symptoms depends on the type of stroke and the area of the brain thats affected. How long symptoms last and how severe they are vary among different people. Signs and symptoms of a stroke may include: Sudden weakness Paralysis (an inability to move) or numbness of the face, arms, or legs, especially on one side of the body Confusion Trouble speaking or understanding speech Trouble seeing in one or both eyes Problems breathing Dizziness, trouble walking, loss of balance or coordination, and unexplained falls Loss of consciousness Sudden and severe headache A transient ischemic attack (TIA) has the same signs and symptoms as a stroke. However, TIA symptoms usually last less than 12 hours (although they may last up to 24 hours). A TIA may occur only once in a persons lifetime or more often. At first, it may not be possible to tell whether someone is having a TIA or stroke. All stroke-like symptoms require medical care. If you think you or someone else is having a TIA or stroke, call 911 right away. Do not drive to the hospital or let someone else drive you. Call an ambulance so that medical personnel can begin life-saving treatment on the way to the emergency room. During a stroke, every minute counts. Stroke Complications After youve had a stroke, you may develop other complications, such as: Blood clots and muscle weakness. Being immobile (unable to move around) for a long time can raise your risk of developing blood clots in the deep veins of the legs. Being immobile also can lead to muscle weakness and decreased muscle flexibility. Problems swallowing and pneumonia. If a stroke affects the muscles used for swallowing, you may have a hard time eating or drinking. You also may be at risk of inhaling food or drink into your lungs. If this happens, you may develop pneumonia. Loss of bladder control. Some strokes affect the muscles used to urinate. You may need a urinary catheter (a tube placed into the bladder) until you can urinate on your own. Use of these catheters can lead to urinary tract infections. Loss of bowel control or constipation also may occur after a stroke.<end>\n",
            "Sample 4:    <question>   What are the treatments for Skin Cancer ?   <answer>   Different types of treatment are available for patients with skin cancer. Some treatments are standard (the currently used treatment), and some are being tested in clinical trials. Four types of standard treatment are used: surgery, radiation therapy, chemotherapy, photodynamic therapy, and immunotherapy. Another therapy, biologic therapy, is one of many therapies currently being tested in clinical trials. These standard cancer treatments work in different ways. - Surgery removes the cancer. - Chemotherapy uses anti-cancer drugs to kill cancer cells or stop their growth. - Radiation therapy uses high-energy beams to kill cancer cells and shrink tumors. - Photodynamic therapy uses a drug and a type of laser light to kill cancer cells. - Immunotherapy, which is newer, uses the patient's own immune system to fight the cancer. Surgery removes the cancer. Chemotherapy uses anti-cancer drugs to kill cancer cells or stop their growth. Radiation therapy uses high-energy beams to kill cancer cells and shrink tumors. Photodynamic therapy uses a drug and a type of laser light to kill cancer cells. Immunotherapy, which is newer, uses the patient's own immune system to fight the cancer. In June of 2011, an important advance in treating melanoma was announced at an annual cancer meeting. A drug called ipilimumab was approved for treating the disease, and it works differently than traditional chemotherapy. It uses immunotherapy to help the immune system recognize and reject cancer cells. When its successful, immunotherapy can lead to complete reversal of even advanced disease. Some patients with stage IV metastatic disease who were treated in early immunotherapy trials after other therapies were unsuccessful are still in complete remission more than 20 years later.<end>\n",
            "Sample 5:    <question>   How to prevent Alzheimer's Disease ?   <answer>   Currently, no medicines or other treatments are known to prevent Alzheimers disease, but scientists are studying many possibilities. These possibilities include lifestyle factors such as exercise and physical activity, a healthy diet, and mentally stimulating activities. In addition to lifestyle factors, scientists have found clues that some long-term health conditions, like heart disease, high blood pressure, and diabetes, are related to Alzheimer's disease. Its possible that controlling these conditions will reduce the risk of developing Alzheimers. Exercise and Physical Activity Studies show that exercise and other types of physical activity are good for our hearts, waistlines, and ability to carry out everyday activities. Research suggests that exercise may also play a role in reducing risk for Alzheimers disease. Animal studies show that exercise increases both the number of small blood vessels that supply blood to the brain and the number of connections between nerve cells in older rats and mice. In addition, researchers have found that exercise raises the level of a nerve growth factor (a protein key to brain health) in an area of the brain that is important to memory and learning. See suggestions for ways older adults can start or continue to exercise. Diet and Dietary Supplements A number of studies suggest that eating certain foods may help keep the brain healthyand that others can be harmful. A diet that includes lots of fruits, vegetables, and whole grains and is low in fat and added sugar can reduce the risk of heart disease and diabetes. Researchers are looking at whether a healthy diet also can help prevent Alzheimers. One study reported that people who ate a Mediterranean diet had a 28 percent lower risk of developing MCI (mild cognitive impairment) and a 48 percent lower risk of progressing from MCI to Alzheimers disease. (MCI often, but not always, leads to Alzheimers dementia.) A Mediterranean diet includes vegetables, legumes, fruits, cereals, fish, olive oil, and low amounts of saturated fats, dairy products, meat, and poultry. For more about healthy eating as you age , see Eating Well As You Get Older. Other research has looked at the effect on brain health of several different vitamins and dietary supplements. One area of research focuses on antioxidants, natural substances that appear to fight damage caused by molecules called free radicals. Other studies are looking at resveratrol, a compound found in red grapes and red wine, as well as vitamins and other substances found in food. Chronic Diseases Age-related diseases and conditionssuch as vascular disease, high blood pressure, heart disease, and diabetesmay increase the risk of Alzheimers. Many studies are looking at whether this risk can be reduced by preventing or controlling these diseases and conditions. For example, one clinical trial is looking at how lowering blood pressure to or below current recommended levels may affect cognitive decline and the development of MCI and Alzheimers disease. Participants are older adults with high systolic (upper number) blood pressure who have a history of heart disease or stroke, or are at risk for those conditions. Diabetes is another disease that has been linked to Alzheimers. Past research suggests that abnormal insulin production contributes to Alzheimers-related brain changes. (Insulin is the hormone involved in diabetes.) Diabetes treatments have been tested in people with Alzheimers, but the results have not been conclusive. Keeping the Brain Active Keeping the mind sharpthrough social engagement or intellectual stimulationis associated with a lower risk of Alzheimers disease. Activities like working, volunteering, reading, going to lectures, and playing computer and other games are being studied to see if they might help prevent Alzheimers. One clinical trial is testing the impact of formal cognitive training, with and without physical exercise, in people with MCI to see if it can prevent or delay Alzheimers disease. Other trials are underway in healthy older adults to see if exercise and/or cognitive training (for example, a demanding video game) can delay or prevent age-related cognitive decline. Find out about things you can do that may keep your brain healthy.<end>\n"
          ]
        }
      ]
    },
    {
      "cell_type": "markdown",
      "source": [
        "**Exercise 6: Load pre-trained GPT2Tokenizer**\n",
        "\n",
        "- Use checkpoint = \"gpt2\"\n",
        "\n",
        "**Hint:** `GPT2Tokenizer.from_pretrained(...)`"
      ],
      "metadata": {
        "id": "Y1hlYtjjML1r"
      }
    },
    {
      "cell_type": "code",
      "source": [
        "# Set up the tokenizer\n",
        "# Import the necessary library\n",
        "from transformers import GPT2Tokenizer\n",
        "\n",
        "# Load the pre-trained GPT2 tokenizer\n",
        "checkpoint = \"gpt2\"\n",
        "tokenizer = GPT2Tokenizer.from_pretrained(checkpoint)\n",
        "\n",
        "# Print a confirmation message\n",
        "print(\"GPT2Tokenizer loaded successfully.\")\n"
      ],
      "metadata": {
        "id": "-qiMe9TAplyj",
        "colab": {
          "base_uri": "https://localhost:8080/"
        },
        "outputId": "791ba7c6-f10d-4d0c-8415-f44cda15c0df"
      },
      "execution_count": 33,
      "outputs": [
        {
          "output_type": "stream",
          "name": "stdout",
          "text": [
            "GPT2Tokenizer loaded successfully.\n"
          ]
        }
      ]
    },
    {
      "cell_type": "markdown",
      "source": [
        "**Exercise 7: Tokenize train and validation data [1 Mark]**\n",
        "\n",
        "- Use the loaded pre-trained tokenizer\n",
        "- Use training and validation data saved in text files\n",
        "\n",
        "**Hint:**\n",
        "\n",
        "`from datasets import load_dataset`\n",
        "\n",
        "`dataset = load_dataset(\"text\", data_files={...})`"
      ],
      "metadata": {
        "id": "InX4FOvgP0mi"
      }
    },
    {
      "cell_type": "code",
      "source": [
        "# # Import necessary libraries\n",
        "# from datasets import load_dataset\n",
        "# from transformers import GPT2Tokenizer\n",
        "\n",
        "# # Load the pre-trained GPT2 tokenizer\n",
        "# checkpoint = \"gpt2\"\n",
        "# tokenizer = GPT2Tokenizer.from_pretrained(checkpoint)\n",
        "\n",
        "# # Set pad token\n",
        "# tokenizer.pad_token = tokenizer.eos_token  # Use the EOS token as the pad token\n",
        "\n",
        "# # Load the training and validation datasets from text files\n",
        "# dataset = load_dataset(\"text\", data_files={\"train\": \"train_data.txt\", \"validation\": \"val_data.txt\"})\n",
        "\n",
        "# # Tokenization function\n",
        "# def tokenize_function(examples):\n",
        "#     return tokenizer(examples[\"text\"], padding=\"max_length\", truncation=True, max_length=512)\n",
        "\n",
        "# # Tokenize the datasets\n",
        "# tokenized_datasets = dataset.map(tokenize_function, batched=True)\n",
        "\n",
        "# # Print a message confirming the tokenization\n",
        "# print(\"Training and validation datasets tokenized successfully.\")\n",
        "\n",
        "# Save the training and validation data as text files\n",
        "\n",
        "import torch\n",
        "from transformers import GPT2Tokenizer\n",
        "\n",
        "# Load the pre-trained tokenizer\n",
        "model_name = \"gpt2\"\n",
        "tokenizer = GPT2Tokenizer.from_pretrained(model_name)\n",
        "\n",
        "# Set padding token to be the same as the EOS token\n",
        "tokenizer.pad_token = tokenizer.eos_token  # Assign EOS token as padding token\n",
        "\n",
        "# Read the training data from the file\n",
        "with open(\"train_data.txt\", \"r\") as train_file:\n",
        "    train_text = train_file.read()\n",
        "\n",
        "# Read the validation data from the file\n",
        "with open(\"val_data.txt\", \"r\") as val_file:\n",
        "    val_text = val_file.read()\n",
        "\n",
        "# Print a few samples from the training data\n",
        "print(\"\\nSample Training Data:\")\n",
        "train_samples = train_text.split('\\n')[:5]  # Get the first 5 samples\n",
        "for i, sample in enumerate(train_samples):\n",
        "    print(f\"Sample {i + 1}: {sample}\")\n",
        "\n",
        "# Print a few samples from the validation data\n",
        "print(\"\\nSample Validation Data:\")\n",
        "val_samples = val_text.split('\\n')[:5]  # Get the first 5 samples\n",
        "for i, sample in enumerate(val_samples):\n",
        "    print(f\"Sample {i + 1}: {sample}\")\n",
        "\n",
        "# Tokenize the training and validation text\n",
        "train_tokens = tokenizer(train_text, return_tensors='pt', truncation=True, padding=True)\n",
        "val_tokens = tokenizer(val_text, return_tensors='pt', truncation=True, padding=True)\n",
        "\n",
        "\n",
        "# Print a few samples of the tokenized training data\n",
        "print(\"\\nSample Tokenized Training Data:\")\n",
        "train_token_samples = train_tokens['input_ids'][:5]  # Get the first 5 tokenized samples\n",
        "for i, token_sample in enumerate(train_token_samples):\n",
        "    decoded_sample = tokenizer.decode(token_sample, skip_special_tokens=True)  # Skip special tokens for clearer output\n",
        "    print(f\"Token Sample {i + 1}: {decoded_sample}\")\n",
        "\n",
        "# Print a few samples of the tokenized validation data\n",
        "print(\"\\nSample Tokenized Validation Data:\")\n",
        "val_token_samples = val_tokens['input_ids'][:5]  # Get the first 5 tokenized samples\n",
        "for i, token_sample in enumerate(val_token_samples):\n",
        "    decoded_sample = tokenizer.decode(token_sample, skip_special_tokens=True)  # Skip special tokens for clearer output\n",
        "    print(f\"Token Sample {i + 1}: {decoded_sample}\")\n",
        "\n",
        "\n",
        "# Tokenize the training and validation text\n",
        "train_tokens = tokenizer(train_text, return_tensors='pt', truncation=True, padding=True)\n",
        "val_tokens = tokenizer(val_text, return_tensors='pt', truncation=True, padding=True)\n",
        "\n",
        "# Print a few samples of the tokenized training data\n",
        "print(\"\\nSample Tokenized Training Data:\")\n",
        "train_token_samples = train_tokens['input_ids'][:5]  # Get the first 5 tokenized samples\n",
        "for i, token_sample in enumerate(train_token_samples):\n",
        "    print(f\"Token Sample {i + 1}: {tokenizer.decode(token_sample)}\")  # Decode back to text for better visibility\n",
        "\n",
        "# Print a few samples of the tokenized validation data\n",
        "print(\"\\nSample Tokenized Validation Data:\")\n",
        "val_token_samples = val_tokens['input_ids'][:5]  # Get the first 5 tokenized samples\n",
        "for i, token_sample in enumerate(val_token_samples):\n",
        "    print(f\"Token Sample {i + 1}: {tokenizer.decode(token_sample)}\")  # Decode back to text for better visibility\n",
        "\n"
      ],
      "metadata": {
        "id": "crjMEbLfVOpq",
        "colab": {
          "base_uri": "https://localhost:8080/"
        },
        "outputId": "dc393e30-20e6-461d-8f23-62a44059dc6a"
      },
      "execution_count": 53,
      "outputs": [
        {
          "output_type": "stream",
          "name": "stdout",
          "text": [
            "\n",
            "Sample Training Data:\n",
            "Sample 1:    <question>   Who is at risk for Breast Cancer? ?   <answer>   Key Points - Avoiding risk factors and increasing protective factors may help prevent cancer. - The following are risk factors for breast cancer: - Older age - A personal history of breast cancer or benign (noncancer) breast disease - Inherited risk of breast cancer - Dense breasts - Exposure of breast tissue to estrogen made in the body - Taking hormone therapy for symptoms of menopause - Radiation therapy to the breast or chest - Obesity - Drinking alcohol - The following are protective factors for breast cancer: - Less exposure of breast tissue to estrogen made by the body - Taking estrogen-only hormone therapy after hysterectomy, selective estrogen receptor modulators, or aromatase inhibitors and inactivators - Estrogen-only hormone therapy after hysterectomy - Selective estrogen receptor modulators - Aromatase inhibitors and inactivators - Risk-reducing mastectomy - Ovarian ablation - Getting enough exercise - It is not clear whether the following affect the risk of breast cancer: - Oral contraceptives - Environment - Studies have shown that some factors do not affect the risk of breast cancer. - Cancer prevention clinical trials are used to study ways to prevent cancer. - New ways to prevent breast cancer are being studied in clinical trials. Avoiding risk factors and increasing protective factors may help prevent cancer. Avoiding cancer risk factors may help prevent certain cancers. Risk factors include smoking, being overweight, and not getting enough exercise. Increasing protective factors such as quitting smoking and exercising may also help prevent some cancers. Talk to your doctor or other health care professional about how you might lower your risk of cancer. NCI's Breast Cancer Risk Assessment Tool uses a woman's risk factors to estimate her risk for breast cancer during the next five years and up to age 90. This online tool is meant to be used by a health care provider. For more information on breast cancer risk, call 1-800-4-CANCER. The following are risk factors for breast cancer: Older age Older age is the main risk factor for most cancers. The chance of getting cancer increases as you get older. A personal history of breast cancer or benign (noncancer) breast disease Women with any of the following have an increased risk of breast cancer: - A personal history of invasive breast cancer, ductal carcinoma in situ (DCIS), or lobular carcinoma in situ (LCIS). - A personal history of benign (noncancer) breast disease. Inherited risk of breast cancer Women with a family history of breast cancer in a first-degree relative (mother, sister, or daughter) have an increased risk of breast cancer. Women who have inherited changes in the BRCA1 and BRCA2 genes or in certain other genes have a higher risk of breast cancer. The risk of breast cancer caused by inherited gene changes depends on the type of gene mutation, family history of cancer, and other factors. Dense breasts Having breast tissue that is dense on a mammogram is a factor in breast cancer risk. The level of risk depends on how dense the breast tissue is. Women with very dense breasts have a higher risk of breast cancer than women with low breast density. Increased breast density is often an inherited trait, but it may also occur in women who have not had children, have a first pregnancy late in life, take postmenopausal hormones, or drink alcohol. Exposure of breast tissue to estrogen made in the body Estrogen is a hormone made by the body. It helps the body develop and maintain female sex characteristics. Being exposed to estrogen over a long time may increase the risk of breast cancer. Estrogen levels are highest during the years a woman is menstruating. A woman's exposure to estrogen is increased in the following ways: - Early menstruation: Beginning to have menstrual periods at age 11 or younger increases the number of years the breast tissue is exposed to estrogen. - Starting menopause at a later age: The more years a woman menstruates, the longer her breast tissue is exposed to estrogen. - Older age at first birth or never having given birth: Because estrogen levels are lower during pregnancy, breast tissue is exposed to more estrogen in women who become pregnant for the first time after age 35 or who never become pregnant. Taking hormone therapy for symptoms of menopause Hormones, such as estrogen and progesterone, can be made into a pill form in a laboratory. Estrogen, progestin, or both may be given to replace the estrogen no longer made by the ovaries in postmenopausal women or women who have had their ovaries removed. This is called hormone replacement therapy (HRT) or hormone therapy (HT). Combination HRT/HT is estrogen combined with progestin. This type of HRT/HT increases the risk of breast cancer. Studies show that when women stop taking estrogen combined with progestin, the risk of breast cancer decreases. Radiation therapy to the breast or chest Radiation therapy to the chest for the treatment of cancer increases the risk of breast cancer, starting 10 years after treatment. The risk of breast cancer depends on the dose of radiation and the age at which it is given. The risk is highest if radiation treatment was used during puberty, when breasts are forming. Radiation therapy to treat cancer in one breast does not appear to increase the risk of cancer in the other breast. For women who have inherited changes in the BRCA1 and BRCA2 genes, exposure to radiation, such as that from chest x-rays, may further increase the risk of breast cancer, especially in women who were x-rayed before 20 years of age. Obesity Obesity increases the risk of breast cancer, especially in postmenopausal women who have not used hormone replacement therapy. Drinking alcohol Drinking alcohol increases the risk of breast cancer. The level of risk rises as the amount of alcohol consumed rises. The following are protective factors for breast cancer: Less exposure of breast tissue to estrogen made by the body Decreasing the length of time a woman's breast tissue is exposed to estrogen may help prevent breast cancer. Exposure to estrogen is reduced in the following ways: - Early pregnancy: Estrogen levels are lower during pregnancy. Women who have a full-term pregnancy before age 20 have a lower risk of breast cancer than women who have not had children or who give birth to their first child after age 35. - Breast-feeding: Estrogen levels may remain lower while a woman is breast-feeding. Women who breastfed have a lower risk of breast cancer than women who have had children but did not breastfeed. Taking estrogen-only hormone therapy after hysterectomy, selective estrogen receptor modulators, or aromatase inhibitors and inactivators Estrogen-only hormone therapy after hysterectomy Hormone therapy with estrogen only may be given to women who have had a hysterectomy. In these women, estrogen-only therapy after menopause may decrease the risk of breast cancer. There is an increased risk of stroke and heart and blood vessel disease in postmenopausal women who take estrogen after a hysterectomy. Selective estrogen receptor modulators Tamoxifen and raloxifene belong to the family of drugs called selective estrogen receptor modulators (SERMs). SERMs act like estrogen on some tissues in the body, but block the effect of estrogen on other tissues. Treatment with tamoxifen lowers the risk of estrogen receptor-positive (ER-positive) breast cancer and ductal carcinoma in situ in premenopausal and postmenopausal women at high risk. Treatment with raloxifene also lowers the risk of breast cancer in postmenopausal women. With either drug, the reduced risk lasts for several years or longer after treatment is stopped. Lower rates of broken bones have been noted in patients taking raloxifene. Taking tamoxifen increases the risk of hot flashes, endometrial cancer, stroke, cataracts, and blood clots (especially in the lungs and legs). The risk of having these problems increases markedly in women older than 50 years compared with younger women. Women younger than 50 years who have a high risk of breast cancer may benefit the most from taking tamoxifen. The risk of having these problems decreases after tamoxifen is stopped. Talk with your doctor about the risks and benefits of taking this drug. Taking raloxifene increases the risk of blood clots in the lungs and legs, but does not appear to increase the risk of endometrial cancer. In postmenopausal women with osteoporosis (decreased bone density), raloxifene lowers the risk of breast cancer for women who have a high or low risk of breast cancer. It is not known if raloxifene would have the same effect in women who do not have osteoporosis. Talk with your doctor about the risks and benefits of taking this drug. Other SERMs are being studied in clinical trials. Aromatase inhibitors and inactivators Aromatase inhibitors (anastrozole, letrozole) and inactivators (exemestane) lower the risk of recurrence and of new breast cancers in women who have a history of breast cancer. Aromatase inhibitors also decrease the risk of breast cancer in women with the following conditions: - Postmenopausal women with a personal history of breast cancer. - Women with no personal history of breast cancer who are 60 years and older, have a history of ductal carcinoma in situ with mastectomy, or have a high risk of breast cancer based on the Gail model tool (a tool used to estimate the risk of breast cancer). In women with an increased risk of breast cancer, taking aromatase inhibitors decreases the amount of estrogen made by the body. Before menopause, estrogen is made by the ovaries and other tissues in a woman's body, including the brain, fat tissue, and skin. After menopause, the ovaries stop making estrogen, but the other tissues do not. Aromatase inhibitors block the action of an enzyme called aromatase, which is used to make all of the body's estrogen. Aromatase inactivators stop the enzyme from working. Possible harms from taking aromatase inhibitors include muscle and joint pain, osteoporosis, hot flashes, and feeling very tired. Risk-reducing mastectomy Some women who have a high risk of breast cancer may choose to have a risk-reducing mastectomy (the removal of both breasts when there are no signs of cancer). The risk of breast cancer is much lower in these women and most feel less anxious about their risk of breast cancer. However, it is very important to have a cancer risk assessment and counseling about the different ways to prevent breast cancer before making this decision. Ovarian ablation The ovaries make most of the estrogen that is made by the body. Treatments that stop or lower the amount of estrogen made by the ovaries include surgery to remove the ovaries, radiation therapy, or taking certain drugs. This is called ovarian ablation. Premenopausal women who have a high risk of breast cancer due to certain changes in the BRCA1 and BRCA2 genes may choose to have a risk-reducing oophorectomy (the removal of both ovaries when there are no signs of cancer). This decreases the amount of estrogen made by the body and lowers the risk of breast cancer. Risk-reducing oophorectomy also lowers the risk of breast cancer in normal premenopausal women and in women with an increased risk of breast cancer due to radiation to the chest. However, it is very important to have a cancer risk assessment and counseling before making this decision. The sudden drop in estrogen levels may cause the symptoms of menopause to begin. These include hot flashes, trouble sleeping, anxiety, and depression. Long-term effects include decreased sex drive, vaginal dryness, and decreased bone density. Getting enough exercise Women who exercise four or more hours a week have a lower risk of breast cancer. The effect of exercise on breast cancer risk may be greatest in premenopausal women who have normal or low body weight. It is not clear whether the following affect the risk of breast cancer: Oral contraceptives Certain oral contraceptives contain estrogen. Some studies have shown that taking oral contraceptives (\"the pill\") may slightly increase the risk of breast cancer in current users. This risk decreases over time. Other studies have not shown an increased risk of breast cancer in women who take oral contraceptives. Progestin -only contraceptives that are injected or implanted do not appear to increase the risk of breast cancer. More studies are needed to know whether progestin-only oral contraceptives increase the risk of breast cancer. Environment Studies have not proven that being exposed to certain substances in the environment, such as chemicals, increases the risk of breast cancer. Studies have shown that some factors do not affect the risk of breast cancer. The following do not affect the risk of breast cancer: - Having an abortion. - Making diet changes such as eating less fat or more fruits and vegetables. - Taking vitamins, including fenretinide (a type of vitamin A). - Cigarette smoking, both active and passive (inhaling secondhand smoke). - Using underarm deodorant or antiperspirant. - Taking statins (cholesterol -lowering drugs). - Taking bisphosphonates (drugs used to treat osteoporosis and hypercalcemia) by mouth or by intravenous infusion.<end>\n",
            "Sample 2:    <question>   What is (are) Breast Cancer ?   <answer>   A mammogram can often detect breast changes in women who have no signs of breast cancer. Often, it can find a breast lump before it can be felt. If the results indicate that cancer might be present, your doctor will advise you to have a follow-up test called a biopsy.<end>\n",
            "Sample 3:    <question>   What is (are) Breast Cancer ?   <answer>   There are two types of breast-conserving surgery -- lumpectomy and partial mastectomy. - Lumpectomy is the removal of the tumor and a small amount of normal tissue around it. A woman who has a lumpectomy almost always has radiation therapy as well. Most surgeons also take out some of the lymph nodes under the arm. Lumpectomy is the removal of the tumor and a small amount of normal tissue around it. A woman who has a lumpectomy almost always has radiation therapy as well. Most surgeons also take out some of the lymph nodes under the arm. - Partial or segmental mastectomy is removal of the cancer, some of the breast tissue around the tumor, and the lining over the chest muscles below the tumor. Often, surgeons remove some of the lymph nodes under the arm. In most cases, radiation therapy follows. Partial or segmental mastectomy is removal of the cancer, some of the breast tissue around the tumor, and the lining over the chest muscles below the tumor. Often, surgeons remove some of the lymph nodes under the arm. In most cases, radiation therapy follows.<end>\n",
            "Sample 4:    <question>   What are the symptoms of Breast Cancer ?   <answer>   Signs of breast cancer include a lump or change in the breast. These and other signs may be caused by breast cancer or by other conditions. Check with your doctor if you have any of the following: - A lump or thickening in or near the breast or in the underarm area. - A change in the size or shape of the breast. - A dimple or puckering in the skin of the breast. - A nipple turned inward into the breast. - Fluid, other than breast milk, from the nipple, especially if it's bloody. - Scaly, red, or swollen skin on the breast, nipple, or areola (the dark area of skin around the nipple). - Dimples in the breast that look like the skin of an orange, called peau dorange. It may be difficult to detect (find) breast cancer early in pregnant or nursing women. The breasts usually get larger, tender, or lumpy in women who are pregnant, nursing, or have just given birth. This occurs because of normal hormone changes that take place during pregnancy. These changes can make small lumps difficult to detect. The breasts may also become denser. It is more difficult to detect breast cancer in women with dense breasts using mammography. Because these breast changes can delay diagnosis, breast cancer is often found at a later stage in these women.<end>\n",
            "Sample 5:    <question>   What is (are) Prostate Cancer ?   <answer>   Surgery is a common treatment for early stage prostate cancer. It is used to remove the cancer. The surgeon may remove the entire prostate -- a type of surgery called radical prostatectomy -- or, in some cases, remove only part of it. Sometimes the surgeon will also remove nearby lymph nodes. Side effects may include lack of sexual function (impotence), or problems holding urine (incontinence).<end>\n",
            "\n",
            "Sample Validation Data:\n",
            "Sample 1:    <question>   What is the outlook for Breast Cancer ?   <answer>   Certain factors affect prognosis (chance of recovery) and treatment options.The prognosis (chance of recovery) and treatment options depend on the following: - The stage of the cancer (the size of the tumor and whether it is in the breast only or has spread to other parts of the body). - The type of breast cancer. - The age of the unborn baby. - Whether there are signs or symptoms. - The patients general health.<end>\n",
            "Sample 2:    <question>   What are the treatments for Prostate Cancer ?   <answer>   Surgery, radiation therapy, and hormonal therapy all have the potential to disrupt sexual desire or performance for a short while or permanently. Discuss your concerns with your health care provider. Several options are available to help you manage sexual problems related to prostate cancer treatment.<end>\n",
            "Sample 3:    <question>   What are the symptoms of Stroke ?   <answer>   The signs and symptoms of a stroke often develop quickly. However, they can develop over hours or even days. The type of symptoms depends on the type of stroke and the area of the brain thats affected. How long symptoms last and how severe they are vary among different people. Signs and symptoms of a stroke may include: Sudden weakness Paralysis (an inability to move) or numbness of the face, arms, or legs, especially on one side of the body Confusion Trouble speaking or understanding speech Trouble seeing in one or both eyes Problems breathing Dizziness, trouble walking, loss of balance or coordination, and unexplained falls Loss of consciousness Sudden and severe headache A transient ischemic attack (TIA) has the same signs and symptoms as a stroke. However, TIA symptoms usually last less than 12 hours (although they may last up to 24 hours). A TIA may occur only once in a persons lifetime or more often. At first, it may not be possible to tell whether someone is having a TIA or stroke. All stroke-like symptoms require medical care. If you think you or someone else is having a TIA or stroke, call 911 right away. Do not drive to the hospital or let someone else drive you. Call an ambulance so that medical personnel can begin life-saving treatment on the way to the emergency room. During a stroke, every minute counts. Stroke Complications After youve had a stroke, you may develop other complications, such as: Blood clots and muscle weakness. Being immobile (unable to move around) for a long time can raise your risk of developing blood clots in the deep veins of the legs. Being immobile also can lead to muscle weakness and decreased muscle flexibility. Problems swallowing and pneumonia. If a stroke affects the muscles used for swallowing, you may have a hard time eating or drinking. You also may be at risk of inhaling food or drink into your lungs. If this happens, you may develop pneumonia. Loss of bladder control. Some strokes affect the muscles used to urinate. You may need a urinary catheter (a tube placed into the bladder) until you can urinate on your own. Use of these catheters can lead to urinary tract infections. Loss of bowel control or constipation also may occur after a stroke.<end>\n",
            "Sample 4:    <question>   What are the treatments for Skin Cancer ?   <answer>   Different types of treatment are available for patients with skin cancer. Some treatments are standard (the currently used treatment), and some are being tested in clinical trials. Four types of standard treatment are used: surgery, radiation therapy, chemotherapy, photodynamic therapy, and immunotherapy. Another therapy, biologic therapy, is one of many therapies currently being tested in clinical trials. These standard cancer treatments work in different ways. - Surgery removes the cancer. - Chemotherapy uses anti-cancer drugs to kill cancer cells or stop their growth. - Radiation therapy uses high-energy beams to kill cancer cells and shrink tumors. - Photodynamic therapy uses a drug and a type of laser light to kill cancer cells. - Immunotherapy, which is newer, uses the patient's own immune system to fight the cancer. Surgery removes the cancer. Chemotherapy uses anti-cancer drugs to kill cancer cells or stop their growth. Radiation therapy uses high-energy beams to kill cancer cells and shrink tumors. Photodynamic therapy uses a drug and a type of laser light to kill cancer cells. Immunotherapy, which is newer, uses the patient's own immune system to fight the cancer. In June of 2011, an important advance in treating melanoma was announced at an annual cancer meeting. A drug called ipilimumab was approved for treating the disease, and it works differently than traditional chemotherapy. It uses immunotherapy to help the immune system recognize and reject cancer cells. When its successful, immunotherapy can lead to complete reversal of even advanced disease. Some patients with stage IV metastatic disease who were treated in early immunotherapy trials after other therapies were unsuccessful are still in complete remission more than 20 years later.<end>\n",
            "Sample 5:    <question>   How to prevent Alzheimer's Disease ?   <answer>   Currently, no medicines or other treatments are known to prevent Alzheimers disease, but scientists are studying many possibilities. These possibilities include lifestyle factors such as exercise and physical activity, a healthy diet, and mentally stimulating activities. In addition to lifestyle factors, scientists have found clues that some long-term health conditions, like heart disease, high blood pressure, and diabetes, are related to Alzheimer's disease. Its possible that controlling these conditions will reduce the risk of developing Alzheimers. Exercise and Physical Activity Studies show that exercise and other types of physical activity are good for our hearts, waistlines, and ability to carry out everyday activities. Research suggests that exercise may also play a role in reducing risk for Alzheimers disease. Animal studies show that exercise increases both the number of small blood vessels that supply blood to the brain and the number of connections between nerve cells in older rats and mice. In addition, researchers have found that exercise raises the level of a nerve growth factor (a protein key to brain health) in an area of the brain that is important to memory and learning. See suggestions for ways older adults can start or continue to exercise. Diet and Dietary Supplements A number of studies suggest that eating certain foods may help keep the brain healthyand that others can be harmful. A diet that includes lots of fruits, vegetables, and whole grains and is low in fat and added sugar can reduce the risk of heart disease and diabetes. Researchers are looking at whether a healthy diet also can help prevent Alzheimers. One study reported that people who ate a Mediterranean diet had a 28 percent lower risk of developing MCI (mild cognitive impairment) and a 48 percent lower risk of progressing from MCI to Alzheimers disease. (MCI often, but not always, leads to Alzheimers dementia.) A Mediterranean diet includes vegetables, legumes, fruits, cereals, fish, olive oil, and low amounts of saturated fats, dairy products, meat, and poultry. For more about healthy eating as you age , see Eating Well As You Get Older. Other research has looked at the effect on brain health of several different vitamins and dietary supplements. One area of research focuses on antioxidants, natural substances that appear to fight damage caused by molecules called free radicals. Other studies are looking at resveratrol, a compound found in red grapes and red wine, as well as vitamins and other substances found in food. Chronic Diseases Age-related diseases and conditionssuch as vascular disease, high blood pressure, heart disease, and diabetesmay increase the risk of Alzheimers. Many studies are looking at whether this risk can be reduced by preventing or controlling these diseases and conditions. For example, one clinical trial is looking at how lowering blood pressure to or below current recommended levels may affect cognitive decline and the development of MCI and Alzheimers disease. Participants are older adults with high systolic (upper number) blood pressure who have a history of heart disease or stroke, or are at risk for those conditions. Diabetes is another disease that has been linked to Alzheimers. Past research suggests that abnormal insulin production contributes to Alzheimers-related brain changes. (Insulin is the hormone involved in diabetes.) Diabetes treatments have been tested in people with Alzheimers, but the results have not been conclusive. Keeping the Brain Active Keeping the mind sharpthrough social engagement or intellectual stimulationis associated with a lower risk of Alzheimers disease. Activities like working, volunteering, reading, going to lectures, and playing computer and other games are being studied to see if they might help prevent Alzheimers. One clinical trial is testing the impact of formal cognitive training, with and without physical exercise, in people with MCI to see if it can prevent or delay Alzheimers disease. Other trials are underway in healthy older adults to see if exercise and/or cognitive training (for example, a demanding video game) can delay or prevent age-related cognitive decline. Find out about things you can do that may keep your brain healthy.<end>\n",
            "\n",
            "Sample Tokenized Training Data:\n",
            "Token Sample 1:    <question>   Who is at risk for Breast Cancer??   <answer>   Key Points - Avoiding risk factors and increasing protective factors may help prevent cancer. - The following are risk factors for breast cancer: - Older age - A personal history of breast cancer or benign (noncancer) breast disease - Inherited risk of breast cancer - Dense breasts - Exposure of breast tissue to estrogen made in the body - Taking hormone therapy for symptoms of menopause - Radiation therapy to the breast or chest - Obesity - Drinking alcohol - The following are protective factors for breast cancer: - Less exposure of breast tissue to estrogen made by the body - Taking estrogen-only hormone therapy after hysterectomy, selective estrogen receptor modulators, or aromatase inhibitors and inactivators - Estrogen-only hormone therapy after hysterectomy - Selective estrogen receptor modulators - Aromatase inhibitors and inactivators - Risk-reducing mastectomy - Ovarian ablation - Getting enough exercise - It is not clear whether the following affect the risk of breast cancer: - Oral contraceptives - Environment - Studies have shown that some factors do not affect the risk of breast cancer. - Cancer prevention clinical trials are used to study ways to prevent cancer. - New ways to prevent breast cancer are being studied in clinical trials. Avoiding risk factors and increasing protective factors may help prevent cancer. Avoiding cancer risk factors may help prevent certain cancers. Risk factors include smoking, being overweight, and not getting enough exercise. Increasing protective factors such as quitting smoking and exercising may also help prevent some cancers. Talk to your doctor or other health care professional about how you might lower your risk of cancer. NCI's Breast Cancer Risk Assessment Tool uses a woman's risk factors to estimate her risk for breast cancer during the next five years and up to age 90. This online tool is meant to be used by a health care provider. For more information on breast cancer risk, call 1-800-4-CANCER. The following are risk factors for breast cancer: Older age Older age is the main risk factor for most cancers. The chance of getting cancer increases as you get older. A personal history of breast cancer or benign (noncancer) breast disease Women with any of the following have an increased risk of breast cancer: - A personal history of invasive breast cancer, ductal carcinoma in situ (DCIS), or lobular carcinoma in situ (LCIS). - A personal history of benign (noncancer) breast disease. Inherited risk of breast cancer Women with a family history of breast cancer in a first-degree relative (mother, sister, or daughter) have an increased risk of breast cancer. Women who have inherited changes in the BRCA1 and BRCA2 genes or in certain other genes have a higher risk of breast cancer. The risk of breast cancer caused by inherited gene changes depends on the type of gene mutation, family history of cancer, and other factors. Dense breasts Having breast tissue that is dense on a mammogram is a factor in breast cancer risk. The level of risk depends on how dense the breast tissue is. Women with very dense breasts have a higher risk of breast cancer than women with low breast density. Increased breast density is often an inherited trait, but it may also occur in women who have not had children, have a first pregnancy late in life, take postmenopausal hormones, or drink alcohol. Exposure of breast tissue to estrogen made in the body Estrogen is a hormone made by the body. It helps the body develop and maintain female sex characteristics. Being exposed to estrogen over a long time may increase the risk of breast cancer. Estrogen levels are highest during the years a woman is menstruating. A woman's exposure to estrogen is increased in the following ways: - Early menstruation: Beginning to have menstrual periods at age 11 or younger increases the number of years the breast tissue is exposed to estrogen. - Starting menopause at a later age: The more years a woman menstruates, the longer her breast tissue is exposed to estrogen. - Older age at first birth or never having given birth: Because estrogen levels are lower during pregnancy, breast tissue is exposed to more estrogen in women who become pregnant for the first time after age 35 or who never become pregnant. Taking hormone therapy for symptoms of menopause Hormones, such as estrogen and progesterone, can be made into a pill form in a laboratory. Estrogen, progestin, or both may be given to replace the estrogen no longer made by the ovaries in postmenopausal women or women who have had their ovaries removed. This is called hormone replacement therapy (HRT) or hormone therapy (HT). Combination HRT/HT is estrogen combined with progestin. This type of HRT/HT increases the risk of breast cancer. Studies show that when women stop taking estrogen combined with progestin, the risk of breast cancer decreases. Radiation therapy to the breast or chest Radiation therapy to the chest for\n",
            "\n",
            "Sample Tokenized Validation Data:\n",
            "Token Sample 1:    <question>   What is the outlook for Breast Cancer?   <answer>   Certain factors affect prognosis (chance of recovery) and treatment options.The prognosis (chance of recovery) and treatment options depend on the following: - The stage of the cancer (the size of the tumor and whether it is in the breast only or has spread to other parts of the body). - The type of breast cancer. - The age of the unborn baby. - Whether there are signs or symptoms. - The patients general health.<end>\n",
            "   <question>   What are the treatments for Prostate Cancer?   <answer>   Surgery, radiation therapy, and hormonal therapy all have the potential to disrupt sexual desire or performance for a short while or permanently. Discuss your concerns with your health care provider. Several options are available to help you manage sexual problems related to prostate cancer treatment.<end>\n",
            "   <question>   What are the symptoms of Stroke?   <answer>   The signs and symptoms of a stroke often develop quickly. However, they can develop over hours or even days. The type of symptoms depends on the type of stroke and the area of the brain thats affected. How long symptoms last and how severe they are vary among different people. Signs and symptoms of a stroke may include: Sudden weakness Paralysis (an inability to move) or numbness of the face, arms, or legs, especially on one side of the body Confusion Trouble speaking or understanding speech Trouble seeing in one or both eyes Problems breathing Dizziness, trouble walking, loss of balance or coordination, and unexplained falls Loss of consciousness Sudden and severe headache A transient ischemic attack (TIA) has the same signs and symptoms as a stroke. However, TIA symptoms usually last less than 12 hours (although they may last up to 24 hours). A TIA may occur only once in a persons lifetime or more often. At first, it may not be possible to tell whether someone is having a TIA or stroke. All stroke-like symptoms require medical care. If you think you or someone else is having a TIA or stroke, call 911 right away. Do not drive to the hospital or let someone else drive you. Call an ambulance so that medical personnel can begin life-saving treatment on the way to the emergency room. During a stroke, every minute counts. Stroke Complications After youve had a stroke, you may develop other complications, such as: Blood clots and muscle weakness. Being immobile (unable to move around) for a long time can raise your risk of developing blood clots in the deep veins of the legs. Being immobile also can lead to muscle weakness and decreased muscle flexibility. Problems swallowing and pneumonia. If a stroke affects the muscles used for swallowing, you may have a hard time eating or drinking. You also may be at risk of inhaling food or drink into your lungs. If this happens, you may develop pneumonia. Loss of bladder control. Some strokes affect the muscles used to urinate. You may need a urinary catheter (a tube placed into the bladder) until you can urinate on your own. Use of these catheters can lead to urinary tract infections. Loss of bowel control or constipation also may occur after a stroke.<end>\n",
            "   <question>   What are the treatments for Skin Cancer?   <answer>   Different types of treatment are available for patients with skin cancer. Some treatments are standard (the currently used treatment), and some are being tested in clinical trials. Four types of standard treatment are used: surgery, radiation therapy, chemotherapy, photodynamic therapy, and immunotherapy. Another therapy, biologic therapy, is one of many therapies currently being tested in clinical trials. These standard cancer treatments work in different ways. - Surgery removes the cancer. - Chemotherapy uses anti-cancer drugs to kill cancer cells or stop their growth. - Radiation therapy uses high-energy beams to kill cancer cells and shrink tumors. - Photodynamic therapy uses a drug and a type of laser light to kill cancer cells. - Immunotherapy, which is newer, uses the patient's own immune system to fight the cancer. Surgery removes the cancer. Chemotherapy uses anti-cancer drugs to kill cancer cells or stop their growth. Radiation therapy uses high-energy beams to kill cancer cells and shrink tumors. Photodynamic therapy uses a drug and a type of laser light to kill cancer cells. Immunotherapy, which is newer, uses the patient's own immune system to fight the cancer. In June of 2011, an important advance in treating melanoma was announced at an annual cancer meeting. A drug called ipilimumab was approved for treating the disease, and it works differently than traditional chemotherapy. It uses immunotherapy to help the immune system recognize and reject cancer cells. When its successful, immunotherapy can lead to complete reversal of even advanced disease. Some patients with stage IV metastatic disease who were treated in early immun\n",
            "\n",
            "Sample Tokenized Training Data:\n",
            "Token Sample 1:    <question>   Who is at risk for Breast Cancer??   <answer>   Key Points - Avoiding risk factors and increasing protective factors may help prevent cancer. - The following are risk factors for breast cancer: - Older age - A personal history of breast cancer or benign (noncancer) breast disease - Inherited risk of breast cancer - Dense breasts - Exposure of breast tissue to estrogen made in the body - Taking hormone therapy for symptoms of menopause - Radiation therapy to the breast or chest - Obesity - Drinking alcohol - The following are protective factors for breast cancer: - Less exposure of breast tissue to estrogen made by the body - Taking estrogen-only hormone therapy after hysterectomy, selective estrogen receptor modulators, or aromatase inhibitors and inactivators - Estrogen-only hormone therapy after hysterectomy - Selective estrogen receptor modulators - Aromatase inhibitors and inactivators - Risk-reducing mastectomy - Ovarian ablation - Getting enough exercise - It is not clear whether the following affect the risk of breast cancer: - Oral contraceptives - Environment - Studies have shown that some factors do not affect the risk of breast cancer. - Cancer prevention clinical trials are used to study ways to prevent cancer. - New ways to prevent breast cancer are being studied in clinical trials. Avoiding risk factors and increasing protective factors may help prevent cancer. Avoiding cancer risk factors may help prevent certain cancers. Risk factors include smoking, being overweight, and not getting enough exercise. Increasing protective factors such as quitting smoking and exercising may also help prevent some cancers. Talk to your doctor or other health care professional about how you might lower your risk of cancer. NCI's Breast Cancer Risk Assessment Tool uses a woman's risk factors to estimate her risk for breast cancer during the next five years and up to age 90. This online tool is meant to be used by a health care provider. For more information on breast cancer risk, call 1-800-4-CANCER. The following are risk factors for breast cancer: Older age Older age is the main risk factor for most cancers. The chance of getting cancer increases as you get older. A personal history of breast cancer or benign (noncancer) breast disease Women with any of the following have an increased risk of breast cancer: - A personal history of invasive breast cancer, ductal carcinoma in situ (DCIS), or lobular carcinoma in situ (LCIS). - A personal history of benign (noncancer) breast disease. Inherited risk of breast cancer Women with a family history of breast cancer in a first-degree relative (mother, sister, or daughter) have an increased risk of breast cancer. Women who have inherited changes in the BRCA1 and BRCA2 genes or in certain other genes have a higher risk of breast cancer. The risk of breast cancer caused by inherited gene changes depends on the type of gene mutation, family history of cancer, and other factors. Dense breasts Having breast tissue that is dense on a mammogram is a factor in breast cancer risk. The level of risk depends on how dense the breast tissue is. Women with very dense breasts have a higher risk of breast cancer than women with low breast density. Increased breast density is often an inherited trait, but it may also occur in women who have not had children, have a first pregnancy late in life, take postmenopausal hormones, or drink alcohol. Exposure of breast tissue to estrogen made in the body Estrogen is a hormone made by the body. It helps the body develop and maintain female sex characteristics. Being exposed to estrogen over a long time may increase the risk of breast cancer. Estrogen levels are highest during the years a woman is menstruating. A woman's exposure to estrogen is increased in the following ways: - Early menstruation: Beginning to have menstrual periods at age 11 or younger increases the number of years the breast tissue is exposed to estrogen. - Starting menopause at a later age: The more years a woman menstruates, the longer her breast tissue is exposed to estrogen. - Older age at first birth or never having given birth: Because estrogen levels are lower during pregnancy, breast tissue is exposed to more estrogen in women who become pregnant for the first time after age 35 or who never become pregnant. Taking hormone therapy for symptoms of menopause Hormones, such as estrogen and progesterone, can be made into a pill form in a laboratory. Estrogen, progestin, or both may be given to replace the estrogen no longer made by the ovaries in postmenopausal women or women who have had their ovaries removed. This is called hormone replacement therapy (HRT) or hormone therapy (HT). Combination HRT/HT is estrogen combined with progestin. This type of HRT/HT increases the risk of breast cancer. Studies show that when women stop taking estrogen combined with progestin, the risk of breast cancer decreases. Radiation therapy to the breast or chest Radiation therapy to the chest for\n",
            "\n",
            "Sample Tokenized Validation Data:\n",
            "Token Sample 1:    <question>   What is the outlook for Breast Cancer?   <answer>   Certain factors affect prognosis (chance of recovery) and treatment options.The prognosis (chance of recovery) and treatment options depend on the following: - The stage of the cancer (the size of the tumor and whether it is in the breast only or has spread to other parts of the body). - The type of breast cancer. - The age of the unborn baby. - Whether there are signs or symptoms. - The patients general health.<end>\n",
            "   <question>   What are the treatments for Prostate Cancer?   <answer>   Surgery, radiation therapy, and hormonal therapy all have the potential to disrupt sexual desire or performance for a short while or permanently. Discuss your concerns with your health care provider. Several options are available to help you manage sexual problems related to prostate cancer treatment.<end>\n",
            "   <question>   What are the symptoms of Stroke?   <answer>   The signs and symptoms of a stroke often develop quickly. However, they can develop over hours or even days. The type of symptoms depends on the type of stroke and the area of the brain thats affected. How long symptoms last and how severe they are vary among different people. Signs and symptoms of a stroke may include: Sudden weakness Paralysis (an inability to move) or numbness of the face, arms, or legs, especially on one side of the body Confusion Trouble speaking or understanding speech Trouble seeing in one or both eyes Problems breathing Dizziness, trouble walking, loss of balance or coordination, and unexplained falls Loss of consciousness Sudden and severe headache A transient ischemic attack (TIA) has the same signs and symptoms as a stroke. However, TIA symptoms usually last less than 12 hours (although they may last up to 24 hours). A TIA may occur only once in a persons lifetime or more often. At first, it may not be possible to tell whether someone is having a TIA or stroke. All stroke-like symptoms require medical care. If you think you or someone else is having a TIA or stroke, call 911 right away. Do not drive to the hospital or let someone else drive you. Call an ambulance so that medical personnel can begin life-saving treatment on the way to the emergency room. During a stroke, every minute counts. Stroke Complications After youve had a stroke, you may develop other complications, such as: Blood clots and muscle weakness. Being immobile (unable to move around) for a long time can raise your risk of developing blood clots in the deep veins of the legs. Being immobile also can lead to muscle weakness and decreased muscle flexibility. Problems swallowing and pneumonia. If a stroke affects the muscles used for swallowing, you may have a hard time eating or drinking. You also may be at risk of inhaling food or drink into your lungs. If this happens, you may develop pneumonia. Loss of bladder control. Some strokes affect the muscles used to urinate. You may need a urinary catheter (a tube placed into the bladder) until you can urinate on your own. Use of these catheters can lead to urinary tract infections. Loss of bowel control or constipation also may occur after a stroke.<end>\n",
            "   <question>   What are the treatments for Skin Cancer?   <answer>   Different types of treatment are available for patients with skin cancer. Some treatments are standard (the currently used treatment), and some are being tested in clinical trials. Four types of standard treatment are used: surgery, radiation therapy, chemotherapy, photodynamic therapy, and immunotherapy. Another therapy, biologic therapy, is one of many therapies currently being tested in clinical trials. These standard cancer treatments work in different ways. - Surgery removes the cancer. - Chemotherapy uses anti-cancer drugs to kill cancer cells or stop their growth. - Radiation therapy uses high-energy beams to kill cancer cells and shrink tumors. - Photodynamic therapy uses a drug and a type of laser light to kill cancer cells. - Immunotherapy, which is newer, uses the patient's own immune system to fight the cancer. Surgery removes the cancer. Chemotherapy uses anti-cancer drugs to kill cancer cells or stop their growth. Radiation therapy uses high-energy beams to kill cancer cells and shrink tumors. Photodynamic therapy uses a drug and a type of laser light to kill cancer cells. Immunotherapy, which is newer, uses the patient's own immune system to fight the cancer. In June of 2011, an important advance in treating melanoma was announced at an annual cancer meeting. A drug called ipilimumab was approved for treating the disease, and it works differently than traditional chemotherapy. It uses immunotherapy to help the immune system recognize and reject cancer cells. When its successful, immunotherapy can lead to complete reversal of even advanced disease. Some patients with stage IV metastatic disease who were treated in early immun\n"
          ]
        }
      ]
    },
    {
      "cell_type": "code",
      "source": [
        "# import torch\n",
        "# from transformers import GPT2Tokenizer\n",
        "\n",
        "# # Load the pre-trained tokenizer\n",
        "# model_name = \"gpt2\"\n",
        "# tokenizer = GPT2Tokenizer.from_pretrained(model_name)\n",
        "\n",
        "# # Set padding token to be the same as the EOS token\n",
        "# tokenizer.pad_token = tokenizer.eos_token  # Assign EOS token as padding token\n",
        "\n",
        "# # Read the training data from the existing file\n",
        "# with open(\"train_data.txt\", \"r\") as train_file:\n",
        "#     train_text = train_file.read()\n",
        "\n",
        "# # Read the validation data from the existing file\n",
        "# with open(\"val_data.txt\", \"r\") as val_file:\n",
        "#     val_text = val_file.read()\n",
        "\n",
        "# # Split the training and validation text into lines (samples)\n",
        "# train_samples = train_text.split('\\n')\n",
        "# val_samples = val_text.split('\\n')\n",
        "\n",
        "# # Tokenize the training and validation text in batches\n",
        "# train_tokens = tokenizer(train_samples,\n",
        "#                          return_tensors='pt',\n",
        "#                          truncation=True,\n",
        "#                          padding=True,\n",
        "#                          max_length=512)  # Set a max length if needed\n",
        "\n",
        "# val_tokens = tokenizer(val_samples,\n",
        "#                        return_tensors='pt',\n",
        "#                        truncation=True,\n",
        "#                        padding=True,\n",
        "#                        max_length=512)  # Set a max length if needed\n",
        "\n",
        "# # Print a few samples of the tokenized training data\n",
        "# print(\"\\nSample Tokenized Training Data:\")\n",
        "# train_token_samples = train_tokens['input_ids'][:5]  # Get the first 5 tokenized samples\n",
        "# for i, token_sample in enumerate(train_token_samples):\n",
        "#     decoded_sample = tokenizer.decode(token_sample, skip_special_tokens=True)  # Skip special tokens for clearer output\n",
        "#     # Print in the specified format\n",
        "#     print(f\"Token Sample {i + 1}:    <question> {decoded_sample} <answer> <end>\")\n",
        "\n",
        "# # Print a few samples of the tokenized validation data\n",
        "# print(\"\\nSample Tokenized Validation Data:\")\n",
        "# val_token_samples = val_tokens['input_ids'][:5]  # Get the first 5 tokenized samples\n",
        "# for i, token_sample in enumerate(val_token_samples):\n",
        "#     decoded_sample = tokenizer.decode(token_sample, skip_special_tokens=True)  # Skip special tokens for clearer output\n",
        "#     # Print in the specified format\n",
        "#     print(f\"Token Sample {i + 1}:    <question> {decoded_sample} <answer> <end>\")\n"
      ],
      "metadata": {
        "colab": {
          "base_uri": "https://localhost:8080/"
        },
        "id": "QZzcTYm18-Hg",
        "outputId": "7a3a8229-0117-44b1-9fd1-4d8889cdf9c3"
      },
      "execution_count": 44,
      "outputs": [
        {
          "output_type": "stream",
          "name": "stdout",
          "text": [
            "\n",
            "Sample Tokenized Training Data:\n",
            "Token Sample 1:    <question>    <question>   Who is at risk for Breast Cancer??   <answer>   Key Points - Avoiding risk factors and increasing protective factors may help prevent cancer. - The following are risk factors for breast cancer: - Older age - A personal history of breast cancer or benign (noncancer) breast disease - Inherited risk of breast cancer - Dense breasts - Exposure of breast tissue to estrogen made in the body - Taking hormone therapy for symptoms of menopause - Radiation therapy to the breast or chest - Obesity - Drinking alcohol - The following are protective factors for breast cancer: - Less exposure of breast tissue to estrogen made by the body - Taking estrogen-only hormone therapy after hysterectomy, selective estrogen receptor modulators, or aromatase inhibitors and inactivators - Estrogen-only hormone therapy after hysterectomy - Selective estrogen receptor modulators - Aromatase inhibitors and inactivators - Risk-reducing mastectomy - Ovarian ablation - Getting enough exercise - It is not clear whether the following affect the risk of breast cancer: - Oral contraceptives - Environment - Studies have shown that some factors do not affect the risk of breast cancer. - Cancer prevention clinical trials are used to study ways to prevent cancer. - New ways to prevent breast cancer are being studied in clinical trials. Avoiding risk factors and increasing protective factors may help prevent cancer. Avoiding cancer risk factors may help prevent certain cancers. Risk factors include smoking, being overweight, and not getting enough exercise. Increasing protective factors such as quitting smoking and exercising may also help prevent some cancers. Talk to your doctor or other health care professional about how you might lower your risk of cancer. NCI's Breast Cancer Risk Assessment Tool uses a woman's risk factors to estimate her risk for breast cancer during the next five years and up to age 90. This online tool is meant to be used by a health care provider. For more information on breast cancer risk, call 1-800-4-CANCER. The following are risk factors for breast cancer: Older age Older age is the main risk factor for most cancers. The chance of getting cancer increases as you get older. A personal history of breast cancer or benign (noncancer) breast disease Women with any of the following have an increased risk of breast cancer: - A personal history of invasive breast cancer, ductal carcinoma in situ (DCIS), or lobular carcinoma in situ (LCIS). - A personal history of benign (noncancer) <answer> <end>\n",
            "Token Sample 2:    <question>    <question>   What is (are) Breast Cancer?   <answer>   A mammogram can often detect breast changes in women who have no signs of breast cancer. Often, it can find a breast lump before it can be felt. If the results indicate that cancer might be present, your doctor will advise you to have a follow-up test called a biopsy.<end> <answer> <end>\n",
            "Token Sample 3:    <question>    <question>   What is (are) Breast Cancer?   <answer>   There are two types of breast-conserving surgery -- lumpectomy and partial mastectomy. - Lumpectomy is the removal of the tumor and a small amount of normal tissue around it. A woman who has a lumpectomy almost always has radiation therapy as well. Most surgeons also take out some of the lymph nodes under the arm. Lumpectomy is the removal of the tumor and a small amount of normal tissue around it. A woman who has a lumpectomy almost always has radiation therapy as well. Most surgeons also take out some of the lymph nodes under the arm. - Partial or segmental mastectomy is removal of the cancer, some of the breast tissue around the tumor, and the lining over the chest muscles below the tumor. Often, surgeons remove some of the lymph nodes under the arm. In most cases, radiation therapy follows. Partial or segmental mastectomy is removal of the cancer, some of the breast tissue around the tumor, and the lining over the chest muscles below the tumor. Often, surgeons remove some of the lymph nodes under the arm. In most cases, radiation therapy follows.<end> <answer> <end>\n",
            "Token Sample 4:    <question>    <question>   What are the symptoms of Breast Cancer?   <answer>   Signs of breast cancer include a lump or change in the breast. These and other signs may be caused by breast cancer or by other conditions. Check with your doctor if you have any of the following: - A lump or thickening in or near the breast or in the underarm area. - A change in the size or shape of the breast. - A dimple or puckering in the skin of the breast. - A nipple turned inward into the breast. - Fluid, other than breast milk, from the nipple, especially if it's bloody. - Scaly, red, or swollen skin on the breast, nipple, or areola (the dark area of skin around the nipple). - Dimples in the breast that look like the skin of an orange, called peau dorange. It may be difficult to detect (find) breast cancer early in pregnant or nursing women. The breasts usually get larger, tender, or lumpy in women who are pregnant, nursing, or have just given birth. This occurs because of normal hormone changes that take place during pregnancy. These changes can make small lumps difficult to detect. The breasts may also become denser. It is more difficult to detect breast cancer in women with dense breasts using mammography. Because these breast changes can delay diagnosis, breast cancer is often found at a later stage in these women.<end> <answer> <end>\n",
            "Token Sample 5:    <question>    <question>   What is (are) Prostate Cancer?   <answer>   Surgery is a common treatment for early stage prostate cancer. It is used to remove the cancer. The surgeon may remove the entire prostate -- a type of surgery called radical prostatectomy -- or, in some cases, remove only part of it. Sometimes the surgeon will also remove nearby lymph nodes. Side effects may include lack of sexual function (impotence), or problems holding urine (incontinence).<end> <answer> <end>\n",
            "\n",
            "Sample Tokenized Validation Data:\n",
            "Token Sample 1:    <question>    <question>   What is the outlook for Breast Cancer?   <answer>   Certain factors affect prognosis (chance of recovery) and treatment options.The prognosis (chance of recovery) and treatment options depend on the following: - The stage of the cancer (the size of the tumor and whether it is in the breast only or has spread to other parts of the body). - The type of breast cancer. - The age of the unborn baby. - Whether there are signs or symptoms. - The patients general health.<end> <answer> <end>\n",
            "Token Sample 2:    <question>    <question>   What are the treatments for Prostate Cancer?   <answer>   Surgery, radiation therapy, and hormonal therapy all have the potential to disrupt sexual desire or performance for a short while or permanently. Discuss your concerns with your health care provider. Several options are available to help you manage sexual problems related to prostate cancer treatment.<end> <answer> <end>\n",
            "Token Sample 3:    <question>    <question>   What are the symptoms of Stroke?   <answer>   The signs and symptoms of a stroke often develop quickly. However, they can develop over hours or even days. The type of symptoms depends on the type of stroke and the area of the brain thats affected. How long symptoms last and how severe they are vary among different people. Signs and symptoms of a stroke may include: Sudden weakness Paralysis (an inability to move) or numbness of the face, arms, or legs, especially on one side of the body Confusion Trouble speaking or understanding speech Trouble seeing in one or both eyes Problems breathing Dizziness, trouble walking, loss of balance or coordination, and unexplained falls Loss of consciousness Sudden and severe headache A transient ischemic attack (TIA) has the same signs and symptoms as a stroke. However, TIA symptoms usually last less than 12 hours (although they may last up to 24 hours). A TIA may occur only once in a persons lifetime or more often. At first, it may not be possible to tell whether someone is having a TIA or stroke. All stroke-like symptoms require medical care. If you think you or someone else is having a TIA or stroke, call 911 right away. Do not drive to the hospital or let someone else drive you. Call an ambulance so that medical personnel can begin life-saving treatment on the way to the emergency room. During a stroke, every minute counts. Stroke Complications After youve had a stroke, you may develop other complications, such as: Blood clots and muscle weakness. Being immobile (unable to move around) for a long time can raise your risk of developing blood clots in the deep veins of the legs. Being immobile also can lead to muscle weakness and decreased muscle flexibility. Problems swallowing and pneumonia. If a stroke affects the muscles used for swallowing, you may have a hard time eating or drinking. You also may be at risk of inhaling food or drink into your lungs. If this happens, you may develop pneumonia. Loss of bladder control. Some strokes affect the muscles used to urinate. You may need a urinary catheter (a tube placed into the bladder) until you can urinate on your own. Use of these catheters can lead to urinary tract infections. Loss of bowel control or constipation also may occur after a stroke.<end> <answer> <end>\n",
            "Token Sample 4:    <question>    <question>   What are the treatments for Skin Cancer?   <answer>   Different types of treatment are available for patients with skin cancer. Some treatments are standard (the currently used treatment), and some are being tested in clinical trials. Four types of standard treatment are used: surgery, radiation therapy, chemotherapy, photodynamic therapy, and immunotherapy. Another therapy, biologic therapy, is one of many therapies currently being tested in clinical trials. These standard cancer treatments work in different ways. - Surgery removes the cancer. - Chemotherapy uses anti-cancer drugs to kill cancer cells or stop their growth. - Radiation therapy uses high-energy beams to kill cancer cells and shrink tumors. - Photodynamic therapy uses a drug and a type of laser light to kill cancer cells. - Immunotherapy, which is newer, uses the patient's own immune system to fight the cancer. Surgery removes the cancer. Chemotherapy uses anti-cancer drugs to kill cancer cells or stop their growth. Radiation therapy uses high-energy beams to kill cancer cells and shrink tumors. Photodynamic therapy uses a drug and a type of laser light to kill cancer cells. Immunotherapy, which is newer, uses the patient's own immune system to fight the cancer. In June of 2011, an important advance in treating melanoma was announced at an annual cancer meeting. A drug called ipilimumab was approved for treating the disease, and it works differently than traditional chemotherapy. It uses immunotherapy to help the immune system recognize and reject cancer cells. When its successful, immunotherapy can lead to complete reversal of even advanced disease. Some patients with stage IV metastatic disease who were treated in early immunotherapy trials after other therapies were unsuccessful are still in complete remission more than 20 years later.<end> <answer> <end>\n",
            "Token Sample 5:    <question>    <question>   How to prevent Alzheimer's Disease?   <answer>   Currently, no medicines or other treatments are known to prevent Alzheimers disease, but scientists are studying many possibilities. These possibilities include lifestyle factors such as exercise and physical activity, a healthy diet, and mentally stimulating activities. In addition to lifestyle factors, scientists have found clues that some long-term health conditions, like heart disease, high blood pressure, and diabetes, are related to Alzheimer's disease. Its possible that controlling these conditions will reduce the risk of developing Alzheimers. Exercise and Physical Activity Studies show that exercise and other types of physical activity are good for our hearts, waistlines, and ability to carry out everyday activities. Research suggests that exercise may also play a role in reducing risk for Alzheimers disease. Animal studies show that exercise increases both the number of small blood vessels that supply blood to the brain and the number of connections between nerve cells in older rats and mice. In addition, researchers have found that exercise raises the level of a nerve growth factor (a protein key to brain health) in an area of the brain that is important to memory and learning. See suggestions for ways older adults can start or continue to exercise. Diet and Dietary Supplements A number of studies suggest that eating certain foods may help keep the brain healthyand that others can be harmful. A diet that includes lots of fruits, vegetables, and whole grains and is low in fat and added sugar can reduce the risk of heart disease and diabetes. Researchers are looking at whether a healthy diet also can help prevent Alzheimers. One study reported that people who ate a Mediterranean diet had a 28 percent lower risk of developing MCI (mild cognitive impairment) and a 48 percent lower risk of progressing from MCI to Alzheimers disease. (MCI often, but not always, leads to Alzheimers dementia.) A Mediterranean diet includes vegetables, legumes, fruits, cereals, fish, olive oil, and low amounts of saturated fats, dairy products, meat, and poultry. For more about healthy eating as you age, see Eating Well As You Get Older. Other research has looked at the effect on brain health of several different vitamins and dietary supplements. One area of research focuses on antioxidants, natural substances that appear to fight damage caused by molecules called free radicals. Other studies are looking at resveratrol, a compound found in red grapes and red wine, as well as vitamins and other substances found in food. Chronic Diseases Age-related diseases and <answer> <end>\n"
          ]
        }
      ]
    },
    {
      "cell_type": "markdown",
      "source": [
        "**Exercise 8: Create a DataCollator object**\n",
        "\n",
        "**Hint:** `DataCollatorForLanguageModeling(tokenizer=tokenizer, mlm=False, return_tensors=\"pt\")`\n",
        "\n",
        "Data collators are objects that:\n",
        "\n",
        "- will form a batch by using a list of dataset elements as input\n",
        "- may apply some processing (like padding)\n",
        "\n",
        "One of the data collators, `DataCollatorForLanguageModeling`, can also apply some random data augmentation (like random masking) on the formed batch.\n",
        "\n",
        "<br>\n",
        "\n",
        "`DataCollatorForLanguageModeling` is a data collator used for language modeling. Inputs are dynamically padded to the maximum length of a batch if they are not all of the same length.\n",
        "\n",
        "Parameters:\n",
        "\n",
        "- ***tokenizer:*** The tokenizer used for encoding the data.\n",
        "- ***mlm*** (bool, optional, default=True): Whether or not to use masked language modeling.\n",
        "    - If set to False, the labels are the same as the inputs with the padding tokens ignored (by setting them to -100).\n",
        "    - Otherwise, the labels are -100 for non-masked tokens and the value to predict for the masked token.\n",
        "- ***return_tensors*** (str): The type of Tensor to return. Allowable values are “np”, “pt” and “tf” for numpy array, pytorch tensor, and tensorflow tensor respectively.\n",
        "\n",
        "To know more about `DataCollatorForLanguageModeling` parameters, refer [here](https://huggingface.co/docs/transformers/v4.32.0/en/main_classes/data_collator#transformers.DataCollatorForLanguageModeling)."
      ],
      "metadata": {
        "id": "QjN3cYyMkV74"
      }
    },
    {
      "cell_type": "code",
      "source": [
        "# Create a Data collator object\n",
        "from transformers import DataCollatorForLanguageModeling\n",
        "\n",
        "# Create a DataCollator for language modeling\n",
        "data_collator = DataCollatorForLanguageModeling(\n",
        "    tokenizer=tokenizer,   # Pass the tokenizer\n",
        "    mlm=False,              # Set to False since we're not using masked language modeling\n",
        "    return_tensors=\"pt\"    # Return PyTorch tensors\n",
        ")\n",
        "\n",
        "# Print a message confirming the creation of the DataCollator\n",
        "print(\"DataCollator for language modeling created successfully.\")\n"
      ],
      "metadata": {
        "id": "Z_XWmIF3cmhU",
        "colab": {
          "base_uri": "https://localhost:8080/"
        },
        "outputId": "034aff9a-ab10-43d3-ef08-068460dc53e3"
      },
      "execution_count": 54,
      "outputs": [
        {
          "output_type": "stream",
          "name": "stdout",
          "text": [
            "DataCollator for language modeling created successfully.\n"
          ]
        }
      ]
    },
    {
      "cell_type": "markdown",
      "source": [
        "**Exercise 9: Load pre-trained GPT2LMHeadModel**\n",
        "\n",
        "**Hint:** `GPT2LMHeadModel.from_pretrained(...)`"
      ],
      "metadata": {
        "id": "uophCXjYq9MO"
      }
    },
    {
      "cell_type": "code",
      "source": [
        "# Set up the model\n",
        "# Import the GPT2LMHeadModel\n",
        "from transformers import GPT2LMHeadModel\n",
        "\n",
        "# Load the pre-trained GPT-2 model\n",
        "model = GPT2LMHeadModel.from_pretrained(\"gpt2\")\n",
        "\n",
        "# Print the model summary (optional)\n",
        "print(model)\n",
        "\n"
      ],
      "metadata": {
        "id": "HxQWgssCqy7j",
        "colab": {
          "base_uri": "https://localhost:8080/"
        },
        "outputId": "48a54d0d-1cee-4046-c374-c56f672c926f"
      },
      "execution_count": 55,
      "outputs": [
        {
          "output_type": "stream",
          "name": "stdout",
          "text": [
            "GPT2LMHeadModel(\n",
            "  (transformer): GPT2Model(\n",
            "    (wte): Embedding(50257, 768)\n",
            "    (wpe): Embedding(1024, 768)\n",
            "    (drop): Dropout(p=0.1, inplace=False)\n",
            "    (h): ModuleList(\n",
            "      (0-11): 12 x GPT2Block(\n",
            "        (ln_1): LayerNorm((768,), eps=1e-05, elementwise_affine=True)\n",
            "        (attn): GPT2SdpaAttention(\n",
            "          (c_attn): Conv1D()\n",
            "          (c_proj): Conv1D()\n",
            "          (attn_dropout): Dropout(p=0.1, inplace=False)\n",
            "          (resid_dropout): Dropout(p=0.1, inplace=False)\n",
            "        )\n",
            "        (ln_2): LayerNorm((768,), eps=1e-05, elementwise_affine=True)\n",
            "        (mlp): GPT2MLP(\n",
            "          (c_fc): Conv1D()\n",
            "          (c_proj): Conv1D()\n",
            "          (act): NewGELUActivation()\n",
            "          (dropout): Dropout(p=0.1, inplace=False)\n",
            "        )\n",
            "      )\n",
            "    )\n",
            "    (ln_f): LayerNorm((768,), eps=1e-05, elementwise_affine=True)\n",
            "  )\n",
            "  (lm_head): Linear(in_features=768, out_features=50257, bias=False)\n",
            ")\n"
          ]
        }
      ]
    },
    {
      "cell_type": "markdown",
      "source": [
        "**Exercise 10: Fine-tune GPT2 Model [2 Mark]**\n",
        "\n",
        "- Specify training arguments and create a TrainingArguments object (Use 30 epochs)\n",
        "\n",
        "- Train a GPT-2 model using the provided training arguments\n",
        "\n",
        "- Save the resulting trained model and tokenizer to a specified output directory"
      ],
      "metadata": {
        "id": "LdcpMx9QOPnU"
      }
    },
    {
      "cell_type": "code",
      "source": [
        "# Import necessary classes\n",
        "from transformers import TrainingArguments\n",
        "\n",
        "# Set the output path for the trained model\n",
        "model_output_path = \"/content/gpt_model\"\n",
        "\n",
        "# Set up the training arguments\n",
        "training_args = TrainingArguments(\n",
        "    output_dir=model_output_path,          # Directory to save the model and tokenizer\n",
        "    overwrite_output_dir=True,              # Overwrite the output directory if it exists\n",
        "    num_train_epochs=30,                    # Number of training epochs\n",
        "    per_device_train_batch_size=4,          # Batch size for training\n",
        "    per_device_eval_batch_size=4,           # Batch size for evaluation\n",
        "    evaluation_strategy=\"epoch\",             # Evaluate at the end of each epoch\n",
        "    save_strategy=\"epoch\",                   # Save the model at the end of each epoch\n",
        "    logging_dir='./logs',                    # Directory for storing logs\n",
        "    logging_steps=10,                        # Log every 10 steps\n",
        "    weight_decay=0.001,                      # Strength of weight decay\n",
        "    warmup_steps=10,                         # Number of warmup steps for learning rate scheduler\n",
        ")\n",
        "\n",
        "# Print the training arguments for verification\n",
        "print(training_args)\n"
      ],
      "metadata": {
        "id": "UPZiEvn2cuPR",
        "colab": {
          "base_uri": "https://localhost:8080/"
        },
        "outputId": "a2b1fae5-dcf4-4662-df53-364e506e1603"
      },
      "execution_count": 56,
      "outputs": [
        {
          "output_type": "stream",
          "name": "stdout",
          "text": [
            "TrainingArguments(\n",
            "_n_gpu=1,\n",
            "accelerator_config={'split_batches': False, 'dispatch_batches': None, 'even_batches': True, 'use_seedable_sampler': True, 'non_blocking': False, 'gradient_accumulation_kwargs': None, 'use_configured_state': False},\n",
            "adafactor=False,\n",
            "adam_beta1=0.9,\n",
            "adam_beta2=0.999,\n",
            "adam_epsilon=1e-08,\n",
            "auto_find_batch_size=False,\n",
            "batch_eval_metrics=False,\n",
            "bf16=False,\n",
            "bf16_full_eval=False,\n",
            "data_seed=None,\n",
            "dataloader_drop_last=False,\n",
            "dataloader_num_workers=0,\n",
            "dataloader_persistent_workers=False,\n",
            "dataloader_pin_memory=True,\n",
            "dataloader_prefetch_factor=None,\n",
            "ddp_backend=None,\n",
            "ddp_broadcast_buffers=None,\n",
            "ddp_bucket_cap_mb=None,\n",
            "ddp_find_unused_parameters=None,\n",
            "ddp_timeout=1800,\n",
            "debug=[],\n",
            "deepspeed=None,\n",
            "disable_tqdm=False,\n",
            "dispatch_batches=None,\n",
            "do_eval=True,\n",
            "do_predict=False,\n",
            "do_train=False,\n",
            "eval_accumulation_steps=None,\n",
            "eval_delay=0,\n",
            "eval_do_concat_batches=True,\n",
            "eval_on_start=False,\n",
            "eval_steps=None,\n",
            "eval_strategy=epoch,\n",
            "eval_use_gather_object=False,\n",
            "evaluation_strategy=epoch,\n",
            "fp16=False,\n",
            "fp16_backend=auto,\n",
            "fp16_full_eval=False,\n",
            "fp16_opt_level=O1,\n",
            "fsdp=[],\n",
            "fsdp_config={'min_num_params': 0, 'xla': False, 'xla_fsdp_v2': False, 'xla_fsdp_grad_ckpt': False},\n",
            "fsdp_min_num_params=0,\n",
            "fsdp_transformer_layer_cls_to_wrap=None,\n",
            "full_determinism=False,\n",
            "gradient_accumulation_steps=1,\n",
            "gradient_checkpointing=False,\n",
            "gradient_checkpointing_kwargs=None,\n",
            "greater_is_better=None,\n",
            "group_by_length=False,\n",
            "half_precision_backend=auto,\n",
            "hub_always_push=False,\n",
            "hub_model_id=None,\n",
            "hub_private_repo=False,\n",
            "hub_strategy=every_save,\n",
            "hub_token=<HUB_TOKEN>,\n",
            "ignore_data_skip=False,\n",
            "include_inputs_for_metrics=False,\n",
            "include_num_input_tokens_seen=False,\n",
            "include_tokens_per_second=False,\n",
            "jit_mode_eval=False,\n",
            "label_names=None,\n",
            "label_smoothing_factor=0.0,\n",
            "learning_rate=5e-05,\n",
            "length_column_name=length,\n",
            "load_best_model_at_end=False,\n",
            "local_rank=0,\n",
            "log_level=passive,\n",
            "log_level_replica=warning,\n",
            "log_on_each_node=True,\n",
            "logging_dir=./logs,\n",
            "logging_first_step=False,\n",
            "logging_nan_inf_filter=True,\n",
            "logging_steps=10,\n",
            "logging_strategy=steps,\n",
            "lr_scheduler_kwargs={},\n",
            "lr_scheduler_type=linear,\n",
            "max_grad_norm=1.0,\n",
            "max_steps=-1,\n",
            "metric_for_best_model=None,\n",
            "mp_parameters=,\n",
            "neftune_noise_alpha=None,\n",
            "no_cuda=False,\n",
            "num_train_epochs=30,\n",
            "optim=adamw_torch,\n",
            "optim_args=None,\n",
            "optim_target_modules=None,\n",
            "output_dir=/content/gpt_model,\n",
            "overwrite_output_dir=True,\n",
            "past_index=-1,\n",
            "per_device_eval_batch_size=4,\n",
            "per_device_train_batch_size=4,\n",
            "prediction_loss_only=False,\n",
            "push_to_hub=False,\n",
            "push_to_hub_model_id=None,\n",
            "push_to_hub_organization=None,\n",
            "push_to_hub_token=<PUSH_TO_HUB_TOKEN>,\n",
            "ray_scope=last,\n",
            "remove_unused_columns=True,\n",
            "report_to=['tensorboard'],\n",
            "restore_callback_states_from_checkpoint=False,\n",
            "resume_from_checkpoint=None,\n",
            "run_name=/content/gpt_model,\n",
            "save_on_each_node=False,\n",
            "save_only_model=False,\n",
            "save_safetensors=True,\n",
            "save_steps=500,\n",
            "save_strategy=epoch,\n",
            "save_total_limit=None,\n",
            "seed=42,\n",
            "skip_memory_metrics=True,\n",
            "split_batches=None,\n",
            "tf32=None,\n",
            "torch_compile=False,\n",
            "torch_compile_backend=None,\n",
            "torch_compile_mode=None,\n",
            "torch_empty_cache_steps=None,\n",
            "torchdynamo=None,\n",
            "tpu_metrics_debug=False,\n",
            "tpu_num_cores=None,\n",
            "use_cpu=False,\n",
            "use_ipex=False,\n",
            "use_legacy_prediction_loop=False,\n",
            "use_mps_device=False,\n",
            "warmup_ratio=0.0,\n",
            "warmup_steps=10,\n",
            "weight_decay=0.001,\n",
            ")\n"
          ]
        }
      ]
    },
    {
      "cell_type": "code",
      "source": [
        "import torch\n",
        "from transformers import Trainer, TrainingArguments, GPT2LMHeadModel, GPT2Tokenizer\n",
        "\n",
        "# Check if GPU is available\n",
        "device = torch.device(\"cuda\") if torch.cuda.is_available() else torch.device(\"cpu\")\n",
        "print(f\"Using device: {device}\")\n",
        "\n",
        "# Load pre-trained model and tokenizer\n",
        "model_name = \"gpt2\"\n",
        "model = GPT2LMHeadModel.from_pretrained(model_name).to(device)\n",
        "tokenizer = GPT2Tokenizer.from_pretrained(model_name)\n",
        "\n",
        "# Set up the training arguments\n",
        "model_output_path = \"./gpt_model\"  # Change to desired output path\n",
        "training_args = TrainingArguments(\n",
        "    output_dir=model_output_path,\n",
        "    overwrite_output_dir=True,\n",
        "    num_train_epochs=30,               # Number of training epochs\n",
        "    per_device_train_batch_size=4,     # Adjust batch size\n",
        "    per_device_eval_batch_size=4,      # Adjust validation batch size\n",
        "    evaluation_strategy=\"epoch\",        # Evaluate at the end of each epoch\n",
        "    save_strategy=\"epoch\",              # Save the model at the end of each epoch\n",
        "    logging_dir='./logs',               # Directory for storing logs\n",
        "    logging_steps=10,                   # Log every 10 steps\n",
        "    weight_decay=0.01,                  # Weight decay to reduce overfitting\n",
        "    warmup_steps=500,                   # Warmup steps for learning rate scheduler\n",
        "    learning_rate=0.0001,  #5e-5,                 # Initial learning rate\n",
        "    fp16=True,                          # Enable mixed precision training\n",
        "    load_best_model_at_end=True,       # Load the best model when finished training\n",
        "    metric_for_best_model='loss',      # Use 'loss' for best model metric\n",
        "    greater_is_better=False              # Lower loss is better\n",
        ")\n",
        "\n",
        "# Create a Trainer instance\n",
        "trainer = Trainer(\n",
        "    model=model,\n",
        "    args=training_args,\n",
        "    train_dataset=tokenized_datasets['train'],\n",
        "    eval_dataset=tokenized_datasets['validation'],\n",
        "    data_collator=data_collator\n",
        ")\n",
        "\n",
        "# Start training the model\n",
        "trainer.train()\n",
        "\n",
        "# Save the fine-tuned model and tokenizer\n",
        "model.save_pretrained(model_output_path)\n",
        "tokenizer.save_pretrained(model_output_path)\n",
        "\n",
        "# Optionally, print out training and validation loss at the end\n",
        "print(\"Training and validation completed. Model and tokenizer saved.\")\n"
      ],
      "metadata": {
        "id": "1gBNTTSToQXu",
        "colab": {
          "base_uri": "https://localhost:8080/",
          "height": 933
        },
        "outputId": "60f97240-b8c1-469e-f69d-5e9779835a89"
      },
      "execution_count": 57,
      "outputs": [
        {
          "output_type": "stream",
          "name": "stdout",
          "text": [
            "Using device: cuda\n"
          ]
        },
        {
          "output_type": "display_data",
          "data": {
            "text/plain": [
              "<IPython.core.display.HTML object>"
            ],
            "text/html": [
              "\n",
              "    <div>\n",
              "      \n",
              "      <progress value='1627' max='3000' style='width:300px; height:20px; vertical-align: middle;'></progress>\n",
              "      [1627/3000 11:01 < 09:19, 2.46 it/s, Epoch 16.26/30]\n",
              "    </div>\n",
              "    <table border=\"1\" class=\"dataframe\">\n",
              "  <thead>\n",
              " <tr style=\"text-align: left;\">\n",
              "      <th>Epoch</th>\n",
              "      <th>Training Loss</th>\n",
              "      <th>Validation Loss</th>\n",
              "    </tr>\n",
              "  </thead>\n",
              "  <tbody>\n",
              "    <tr>\n",
              "      <td>1</td>\n",
              "      <td>2.495200</td>\n",
              "      <td>2.433013</td>\n",
              "    </tr>\n",
              "    <tr>\n",
              "      <td>2</td>\n",
              "      <td>2.276700</td>\n",
              "      <td>2.336939</td>\n",
              "    </tr>\n",
              "    <tr>\n",
              "      <td>3</td>\n",
              "      <td>2.122400</td>\n",
              "      <td>2.284695</td>\n",
              "    </tr>\n",
              "    <tr>\n",
              "      <td>4</td>\n",
              "      <td>2.063900</td>\n",
              "      <td>2.234551</td>\n",
              "    </tr>\n",
              "    <tr>\n",
              "      <td>5</td>\n",
              "      <td>1.739400</td>\n",
              "      <td>2.216510</td>\n",
              "    </tr>\n",
              "    <tr>\n",
              "      <td>6</td>\n",
              "      <td>1.629100</td>\n",
              "      <td>2.213446</td>\n",
              "    </tr>\n",
              "    <tr>\n",
              "      <td>7</td>\n",
              "      <td>1.522700</td>\n",
              "      <td>2.253986</td>\n",
              "    </tr>\n",
              "    <tr>\n",
              "      <td>8</td>\n",
              "      <td>1.208300</td>\n",
              "      <td>2.332358</td>\n",
              "    </tr>\n",
              "    <tr>\n",
              "      <td>9</td>\n",
              "      <td>1.007600</td>\n",
              "      <td>2.452768</td>\n",
              "    </tr>\n",
              "    <tr>\n",
              "      <td>10</td>\n",
              "      <td>0.858100</td>\n",
              "      <td>2.586952</td>\n",
              "    </tr>\n",
              "    <tr>\n",
              "      <td>11</td>\n",
              "      <td>0.752900</td>\n",
              "      <td>2.693800</td>\n",
              "    </tr>\n",
              "    <tr>\n",
              "      <td>12</td>\n",
              "      <td>0.608700</td>\n",
              "      <td>2.783920</td>\n",
              "    </tr>\n",
              "    <tr>\n",
              "      <td>13</td>\n",
              "      <td>0.507700</td>\n",
              "      <td>2.866906</td>\n",
              "    </tr>\n",
              "    <tr>\n",
              "      <td>14</td>\n",
              "      <td>0.416900</td>\n",
              "      <td>2.983837</td>\n",
              "    </tr>\n",
              "    <tr>\n",
              "      <td>15</td>\n",
              "      <td>0.350600</td>\n",
              "      <td>3.033060</td>\n",
              "    </tr>\n",
              "    <tr>\n",
              "      <td>16</td>\n",
              "      <td>0.325000</td>\n",
              "      <td>3.087358</td>\n",
              "    </tr>\n",
              "  </tbody>\n",
              "</table><p>"
            ]
          },
          "metadata": {}
        },
        {
          "output_type": "error",
          "ename": "KeyboardInterrupt",
          "evalue": "",
          "traceback": [
            "\u001b[0;31m---------------------------------------------------------------------------\u001b[0m",
            "\u001b[0;31mKeyboardInterrupt\u001b[0m                         Traceback (most recent call last)",
            "\u001b[0;32m<ipython-input-57-c5a8df80a38e>\u001b[0m in \u001b[0;36m<cell line: 44>\u001b[0;34m()\u001b[0m\n\u001b[1;32m     42\u001b[0m \u001b[0;34m\u001b[0m\u001b[0m\n\u001b[1;32m     43\u001b[0m \u001b[0;31m# Start training the model\u001b[0m\u001b[0;34m\u001b[0m\u001b[0;34m\u001b[0m\u001b[0m\n\u001b[0;32m---> 44\u001b[0;31m \u001b[0mtrainer\u001b[0m\u001b[0;34m.\u001b[0m\u001b[0mtrain\u001b[0m\u001b[0;34m(\u001b[0m\u001b[0;34m)\u001b[0m\u001b[0;34m\u001b[0m\u001b[0;34m\u001b[0m\u001b[0m\n\u001b[0m\u001b[1;32m     45\u001b[0m \u001b[0;34m\u001b[0m\u001b[0m\n\u001b[1;32m     46\u001b[0m \u001b[0;31m# Save the fine-tuned model and tokenizer\u001b[0m\u001b[0;34m\u001b[0m\u001b[0;34m\u001b[0m\u001b[0m\n",
            "\u001b[0;32m/usr/local/lib/python3.10/dist-packages/transformers/trainer.py\u001b[0m in \u001b[0;36mtrain\u001b[0;34m(self, resume_from_checkpoint, trial, ignore_keys_for_eval, **kwargs)\u001b[0m\n\u001b[1;32m   1936\u001b[0m                 \u001b[0mhf_hub_utils\u001b[0m\u001b[0;34m.\u001b[0m\u001b[0menable_progress_bars\u001b[0m\u001b[0;34m(\u001b[0m\u001b[0;34m)\u001b[0m\u001b[0;34m\u001b[0m\u001b[0;34m\u001b[0m\u001b[0m\n\u001b[1;32m   1937\u001b[0m         \u001b[0;32melse\u001b[0m\u001b[0;34m:\u001b[0m\u001b[0;34m\u001b[0m\u001b[0;34m\u001b[0m\u001b[0m\n\u001b[0;32m-> 1938\u001b[0;31m             return inner_training_loop(\n\u001b[0m\u001b[1;32m   1939\u001b[0m                 \u001b[0margs\u001b[0m\u001b[0;34m=\u001b[0m\u001b[0margs\u001b[0m\u001b[0;34m,\u001b[0m\u001b[0;34m\u001b[0m\u001b[0;34m\u001b[0m\u001b[0m\n\u001b[1;32m   1940\u001b[0m                 \u001b[0mresume_from_checkpoint\u001b[0m\u001b[0;34m=\u001b[0m\u001b[0mresume_from_checkpoint\u001b[0m\u001b[0;34m,\u001b[0m\u001b[0;34m\u001b[0m\u001b[0;34m\u001b[0m\u001b[0m\n",
            "\u001b[0;32m/usr/local/lib/python3.10/dist-packages/transformers/trainer.py\u001b[0m in \u001b[0;36m_inner_training_loop\u001b[0;34m(self, batch_size, args, resume_from_checkpoint, trial, ignore_keys_for_eval)\u001b[0m\n\u001b[1;32m   2277\u001b[0m \u001b[0;34m\u001b[0m\u001b[0m\n\u001b[1;32m   2278\u001b[0m                 \u001b[0;32mwith\u001b[0m \u001b[0mself\u001b[0m\u001b[0;34m.\u001b[0m\u001b[0maccelerator\u001b[0m\u001b[0;34m.\u001b[0m\u001b[0maccumulate\u001b[0m\u001b[0;34m(\u001b[0m\u001b[0mmodel\u001b[0m\u001b[0;34m)\u001b[0m\u001b[0;34m:\u001b[0m\u001b[0;34m\u001b[0m\u001b[0;34m\u001b[0m\u001b[0m\n\u001b[0;32m-> 2279\u001b[0;31m                     \u001b[0mtr_loss_step\u001b[0m \u001b[0;34m=\u001b[0m \u001b[0mself\u001b[0m\u001b[0;34m.\u001b[0m\u001b[0mtraining_step\u001b[0m\u001b[0;34m(\u001b[0m\u001b[0mmodel\u001b[0m\u001b[0;34m,\u001b[0m \u001b[0minputs\u001b[0m\u001b[0;34m)\u001b[0m\u001b[0;34m\u001b[0m\u001b[0;34m\u001b[0m\u001b[0m\n\u001b[0m\u001b[1;32m   2280\u001b[0m \u001b[0;34m\u001b[0m\u001b[0m\n\u001b[1;32m   2281\u001b[0m                 if (\n",
            "\u001b[0;32m/usr/local/lib/python3.10/dist-packages/transformers/trainer.py\u001b[0m in \u001b[0;36mtraining_step\u001b[0;34m(***failed resolving arguments***)\u001b[0m\n\u001b[1;32m   3347\u001b[0m                 \u001b[0mscaled_loss\u001b[0m\u001b[0;34m.\u001b[0m\u001b[0mbackward\u001b[0m\u001b[0;34m(\u001b[0m\u001b[0;34m)\u001b[0m\u001b[0;34m\u001b[0m\u001b[0;34m\u001b[0m\u001b[0m\n\u001b[1;32m   3348\u001b[0m         \u001b[0;32melse\u001b[0m\u001b[0;34m:\u001b[0m\u001b[0;34m\u001b[0m\u001b[0;34m\u001b[0m\u001b[0m\n\u001b[0;32m-> 3349\u001b[0;31m             \u001b[0mself\u001b[0m\u001b[0;34m.\u001b[0m\u001b[0maccelerator\u001b[0m\u001b[0;34m.\u001b[0m\u001b[0mbackward\u001b[0m\u001b[0;34m(\u001b[0m\u001b[0mloss\u001b[0m\u001b[0;34m,\u001b[0m \u001b[0;34m**\u001b[0m\u001b[0mkwargs\u001b[0m\u001b[0;34m)\u001b[0m\u001b[0;34m\u001b[0m\u001b[0;34m\u001b[0m\u001b[0m\n\u001b[0m\u001b[1;32m   3350\u001b[0m \u001b[0;34m\u001b[0m\u001b[0m\n\u001b[1;32m   3351\u001b[0m         \u001b[0;32mreturn\u001b[0m \u001b[0mloss\u001b[0m\u001b[0;34m.\u001b[0m\u001b[0mdetach\u001b[0m\u001b[0;34m(\u001b[0m\u001b[0;34m)\u001b[0m \u001b[0;34m/\u001b[0m \u001b[0mself\u001b[0m\u001b[0;34m.\u001b[0m\u001b[0margs\u001b[0m\u001b[0;34m.\u001b[0m\u001b[0mgradient_accumulation_steps\u001b[0m\u001b[0;34m\u001b[0m\u001b[0;34m\u001b[0m\u001b[0m\n",
            "\u001b[0;32m/usr/local/lib/python3.10/dist-packages/accelerate/accelerator.py\u001b[0m in \u001b[0;36mbackward\u001b[0;34m(self, loss, **kwargs)\u001b[0m\n\u001b[1;32m   2190\u001b[0m             \u001b[0;32mreturn\u001b[0m\u001b[0;34m\u001b[0m\u001b[0;34m\u001b[0m\u001b[0m\n\u001b[1;32m   2191\u001b[0m         \u001b[0;32melif\u001b[0m \u001b[0mself\u001b[0m\u001b[0;34m.\u001b[0m\u001b[0mscaler\u001b[0m \u001b[0;32mis\u001b[0m \u001b[0;32mnot\u001b[0m \u001b[0;32mNone\u001b[0m\u001b[0;34m:\u001b[0m\u001b[0;34m\u001b[0m\u001b[0;34m\u001b[0m\u001b[0m\n\u001b[0;32m-> 2192\u001b[0;31m             \u001b[0mself\u001b[0m\u001b[0;34m.\u001b[0m\u001b[0mscaler\u001b[0m\u001b[0;34m.\u001b[0m\u001b[0mscale\u001b[0m\u001b[0;34m(\u001b[0m\u001b[0mloss\u001b[0m\u001b[0;34m)\u001b[0m\u001b[0;34m.\u001b[0m\u001b[0mbackward\u001b[0m\u001b[0;34m(\u001b[0m\u001b[0;34m**\u001b[0m\u001b[0mkwargs\u001b[0m\u001b[0;34m)\u001b[0m\u001b[0;34m\u001b[0m\u001b[0;34m\u001b[0m\u001b[0m\n\u001b[0m\u001b[1;32m   2193\u001b[0m         \u001b[0;32melif\u001b[0m \u001b[0mlearning_rate\u001b[0m \u001b[0;32mis\u001b[0m \u001b[0;32mnot\u001b[0m \u001b[0;32mNone\u001b[0m \u001b[0;32mand\u001b[0m \u001b[0mself\u001b[0m\u001b[0;34m.\u001b[0m\u001b[0mhas_lomo_optimizer\u001b[0m\u001b[0;34m:\u001b[0m\u001b[0;34m\u001b[0m\u001b[0;34m\u001b[0m\u001b[0m\n\u001b[1;32m   2194\u001b[0m             \u001b[0mself\u001b[0m\u001b[0;34m.\u001b[0m\u001b[0mlomo_backward\u001b[0m\u001b[0;34m(\u001b[0m\u001b[0mloss\u001b[0m\u001b[0;34m,\u001b[0m \u001b[0mlearning_rate\u001b[0m\u001b[0;34m)\u001b[0m\u001b[0;34m\u001b[0m\u001b[0;34m\u001b[0m\u001b[0m\n",
            "\u001b[0;32m/usr/local/lib/python3.10/dist-packages/torch/_tensor.py\u001b[0m in \u001b[0;36mbackward\u001b[0;34m(self, gradient, retain_graph, create_graph, inputs)\u001b[0m\n\u001b[1;32m    519\u001b[0m                 \u001b[0minputs\u001b[0m\u001b[0;34m=\u001b[0m\u001b[0minputs\u001b[0m\u001b[0;34m,\u001b[0m\u001b[0;34m\u001b[0m\u001b[0;34m\u001b[0m\u001b[0m\n\u001b[1;32m    520\u001b[0m             )\n\u001b[0;32m--> 521\u001b[0;31m         torch.autograd.backward(\n\u001b[0m\u001b[1;32m    522\u001b[0m             \u001b[0mself\u001b[0m\u001b[0;34m,\u001b[0m \u001b[0mgradient\u001b[0m\u001b[0;34m,\u001b[0m \u001b[0mretain_graph\u001b[0m\u001b[0;34m,\u001b[0m \u001b[0mcreate_graph\u001b[0m\u001b[0;34m,\u001b[0m \u001b[0minputs\u001b[0m\u001b[0;34m=\u001b[0m\u001b[0minputs\u001b[0m\u001b[0;34m\u001b[0m\u001b[0;34m\u001b[0m\u001b[0m\n\u001b[1;32m    523\u001b[0m         )\n",
            "\u001b[0;32m/usr/local/lib/python3.10/dist-packages/torch/autograd/__init__.py\u001b[0m in \u001b[0;36mbackward\u001b[0;34m(tensors, grad_tensors, retain_graph, create_graph, grad_variables, inputs)\u001b[0m\n\u001b[1;32m    287\u001b[0m     \u001b[0;31m# some Python versions print out the first line of a multi-line function\u001b[0m\u001b[0;34m\u001b[0m\u001b[0;34m\u001b[0m\u001b[0m\n\u001b[1;32m    288\u001b[0m     \u001b[0;31m# calls in the traceback and some print out the last line\u001b[0m\u001b[0;34m\u001b[0m\u001b[0;34m\u001b[0m\u001b[0m\n\u001b[0;32m--> 289\u001b[0;31m     _engine_run_backward(\n\u001b[0m\u001b[1;32m    290\u001b[0m         \u001b[0mtensors\u001b[0m\u001b[0;34m,\u001b[0m\u001b[0;34m\u001b[0m\u001b[0;34m\u001b[0m\u001b[0m\n\u001b[1;32m    291\u001b[0m         \u001b[0mgrad_tensors_\u001b[0m\u001b[0;34m,\u001b[0m\u001b[0;34m\u001b[0m\u001b[0;34m\u001b[0m\u001b[0m\n",
            "\u001b[0;32m/usr/local/lib/python3.10/dist-packages/torch/autograd/graph.py\u001b[0m in \u001b[0;36m_engine_run_backward\u001b[0;34m(t_outputs, *args, **kwargs)\u001b[0m\n\u001b[1;32m    767\u001b[0m         \u001b[0munregister_hooks\u001b[0m \u001b[0;34m=\u001b[0m \u001b[0m_register_logging_hooks_on_whole_graph\u001b[0m\u001b[0;34m(\u001b[0m\u001b[0mt_outputs\u001b[0m\u001b[0;34m)\u001b[0m\u001b[0;34m\u001b[0m\u001b[0;34m\u001b[0m\u001b[0m\n\u001b[1;32m    768\u001b[0m     \u001b[0;32mtry\u001b[0m\u001b[0;34m:\u001b[0m\u001b[0;34m\u001b[0m\u001b[0;34m\u001b[0m\u001b[0m\n\u001b[0;32m--> 769\u001b[0;31m         return Variable._execution_engine.run_backward(  # Calls into the C++ engine to run the backward pass\n\u001b[0m\u001b[1;32m    770\u001b[0m             \u001b[0mt_outputs\u001b[0m\u001b[0;34m,\u001b[0m \u001b[0;34m*\u001b[0m\u001b[0margs\u001b[0m\u001b[0;34m,\u001b[0m \u001b[0;34m**\u001b[0m\u001b[0mkwargs\u001b[0m\u001b[0;34m\u001b[0m\u001b[0;34m\u001b[0m\u001b[0m\n\u001b[1;32m    771\u001b[0m         )  # Calls into the C++ engine to run the backward pass\n",
            "\u001b[0;31mKeyboardInterrupt\u001b[0m: "
          ]
        }
      ]
    },
    {
      "cell_type": "code",
      "source": [
        "import torch\n",
        "from transformers import Trainer, TrainingArguments, GPT2LMHeadModel, GPT2Tokenizer\n",
        "\n",
        "# Check if GPU is available\n",
        "device = torch.device(\"cuda\") if torch.cuda.is_available() else torch.device(\"cpu\")\n",
        "print(f\"Using device: {device}\")\n",
        "\n",
        "# Load pre-trained model and tokenizer\n",
        "model_name = \"gpt2\"  # You can use 'gpt2-medium' or 'gpt2-small' if needed\n",
        "model = GPT2LMHeadModel.from_pretrained(model_name).to(device)\n",
        "tokenizer = GPT2Tokenizer.from_pretrained(model_name)\n",
        "\n",
        "# Set up the training arguments\n",
        "model_output_path = \"./gpt_model\"  # Change to desired output path\n",
        "training_args = TrainingArguments(\n",
        "    output_dir=model_output_path,\n",
        "    overwrite_output_dir=True,\n",
        "    num_train_epochs=30,               # Number of training epochs\n",
        "    per_device_train_batch_size=4,     # Adjust batch size\n",
        "    per_device_eval_batch_size=4,      # Adjust validation batch size\n",
        "    evaluation_strategy=\"epoch\",        # Evaluate at the end of each epoch\n",
        "    save_strategy=\"epoch\",              # Save the model at the end of each epoch\n",
        "    logging_dir='./logs',               # Directory for storing logs\n",
        "    logging_steps=10,                   # Log every 10 steps\n",
        "    weight_decay=0.02,                  # Increased weight decay\n",
        "    warmup_steps=500,                   # Warmup steps for learning rate scheduler\n",
        "    learning_rate=2e-5,                 # Lower initial learning rate\n",
        "    fp16=True,                          # Enable mixed precision training\n",
        "    load_best_model_at_end=True,       # Load the best model when finished training\n",
        "    metric_for_best_model='loss',      # Use 'loss' for best model metric\n",
        "    greater_is_better=False,            # Lower loss is better\n",
        "    eval_steps=100,                     # Evaluate every 100 steps\n",
        "    save_total_limit=3,                 # Limit the number of saved checkpoints\n",
        ")\n",
        "\n",
        "# Create a Trainer instance\n",
        "trainer = Trainer(\n",
        "    model=model,\n",
        "    args=training_args,\n",
        "    train_dataset=tokenized_datasets['train'],\n",
        "    eval_dataset=tokenized_datasets['validation'],\n",
        "    data_collator=data_collator,\n",
        ")\n",
        "\n",
        "# Start training the model\n",
        "trainer.train()\n",
        "\n",
        "#\n"
      ],
      "metadata": {
        "colab": {
          "base_uri": "https://localhost:8080/",
          "height": 1000
        },
        "id": "nzyAVI6mANVu",
        "outputId": "39d77d06-875b-4875-c9a3-10ac71405fc9"
      },
      "execution_count": 58,
      "outputs": [
        {
          "output_type": "stream",
          "name": "stdout",
          "text": [
            "Using device: cuda\n"
          ]
        },
        {
          "output_type": "display_data",
          "data": {
            "text/plain": [
              "<IPython.core.display.HTML object>"
            ],
            "text/html": [
              "\n",
              "    <div>\n",
              "      \n",
              "      <progress value='3000' max='3000' style='width:300px; height:20px; vertical-align: middle;'></progress>\n",
              "      [3000/3000 20:08, Epoch 30/30]\n",
              "    </div>\n",
              "    <table border=\"1\" class=\"dataframe\">\n",
              "  <thead>\n",
              " <tr style=\"text-align: left;\">\n",
              "      <th>Epoch</th>\n",
              "      <th>Training Loss</th>\n",
              "      <th>Validation Loss</th>\n",
              "    </tr>\n",
              "  </thead>\n",
              "  <tbody>\n",
              "    <tr>\n",
              "      <td>1</td>\n",
              "      <td>2.699700</td>\n",
              "      <td>2.561966</td>\n",
              "    </tr>\n",
              "    <tr>\n",
              "      <td>2</td>\n",
              "      <td>2.461500</td>\n",
              "      <td>2.450746</td>\n",
              "    </tr>\n",
              "    <tr>\n",
              "      <td>3</td>\n",
              "      <td>2.398900</td>\n",
              "      <td>2.388801</td>\n",
              "    </tr>\n",
              "    <tr>\n",
              "      <td>4</td>\n",
              "      <td>2.381800</td>\n",
              "      <td>2.352131</td>\n",
              "    </tr>\n",
              "    <tr>\n",
              "      <td>5</td>\n",
              "      <td>2.103000</td>\n",
              "      <td>2.311439</td>\n",
              "    </tr>\n",
              "    <tr>\n",
              "      <td>6</td>\n",
              "      <td>2.105900</td>\n",
              "      <td>2.287381</td>\n",
              "    </tr>\n",
              "    <tr>\n",
              "      <td>7</td>\n",
              "      <td>2.174900</td>\n",
              "      <td>2.273735</td>\n",
              "    </tr>\n",
              "    <tr>\n",
              "      <td>8</td>\n",
              "      <td>1.947200</td>\n",
              "      <td>2.258188</td>\n",
              "    </tr>\n",
              "    <tr>\n",
              "      <td>9</td>\n",
              "      <td>1.881100</td>\n",
              "      <td>2.248554</td>\n",
              "    </tr>\n",
              "    <tr>\n",
              "      <td>10</td>\n",
              "      <td>1.786300</td>\n",
              "      <td>2.239247</td>\n",
              "    </tr>\n",
              "    <tr>\n",
              "      <td>11</td>\n",
              "      <td>1.819500</td>\n",
              "      <td>2.237896</td>\n",
              "    </tr>\n",
              "    <tr>\n",
              "      <td>12</td>\n",
              "      <td>1.708500</td>\n",
              "      <td>2.232541</td>\n",
              "    </tr>\n",
              "    <tr>\n",
              "      <td>13</td>\n",
              "      <td>1.656800</td>\n",
              "      <td>2.234517</td>\n",
              "    </tr>\n",
              "    <tr>\n",
              "      <td>14</td>\n",
              "      <td>1.668200</td>\n",
              "      <td>2.229376</td>\n",
              "    </tr>\n",
              "    <tr>\n",
              "      <td>15</td>\n",
              "      <td>1.539200</td>\n",
              "      <td>2.235548</td>\n",
              "    </tr>\n",
              "    <tr>\n",
              "      <td>16</td>\n",
              "      <td>1.615100</td>\n",
              "      <td>2.228596</td>\n",
              "    </tr>\n",
              "    <tr>\n",
              "      <td>17</td>\n",
              "      <td>1.491900</td>\n",
              "      <td>2.234853</td>\n",
              "    </tr>\n",
              "    <tr>\n",
              "      <td>18</td>\n",
              "      <td>1.477800</td>\n",
              "      <td>2.242351</td>\n",
              "    </tr>\n",
              "    <tr>\n",
              "      <td>19</td>\n",
              "      <td>1.435300</td>\n",
              "      <td>2.248190</td>\n",
              "    </tr>\n",
              "    <tr>\n",
              "      <td>20</td>\n",
              "      <td>1.502900</td>\n",
              "      <td>2.253468</td>\n",
              "    </tr>\n",
              "    <tr>\n",
              "      <td>21</td>\n",
              "      <td>1.486700</td>\n",
              "      <td>2.247903</td>\n",
              "    </tr>\n",
              "    <tr>\n",
              "      <td>22</td>\n",
              "      <td>1.477600</td>\n",
              "      <td>2.259884</td>\n",
              "    </tr>\n",
              "    <tr>\n",
              "      <td>23</td>\n",
              "      <td>1.479300</td>\n",
              "      <td>2.263798</td>\n",
              "    </tr>\n",
              "    <tr>\n",
              "      <td>24</td>\n",
              "      <td>1.377100</td>\n",
              "      <td>2.265847</td>\n",
              "    </tr>\n",
              "    <tr>\n",
              "      <td>25</td>\n",
              "      <td>1.410200</td>\n",
              "      <td>2.276000</td>\n",
              "    </tr>\n",
              "    <tr>\n",
              "      <td>26</td>\n",
              "      <td>1.340000</td>\n",
              "      <td>2.275793</td>\n",
              "    </tr>\n",
              "    <tr>\n",
              "      <td>27</td>\n",
              "      <td>1.255000</td>\n",
              "      <td>2.280675</td>\n",
              "    </tr>\n",
              "    <tr>\n",
              "      <td>28</td>\n",
              "      <td>1.279400</td>\n",
              "      <td>2.280688</td>\n",
              "    </tr>\n",
              "    <tr>\n",
              "      <td>29</td>\n",
              "      <td>1.237800</td>\n",
              "      <td>2.286600</td>\n",
              "    </tr>\n",
              "    <tr>\n",
              "      <td>30</td>\n",
              "      <td>1.240400</td>\n",
              "      <td>2.286888</td>\n",
              "    </tr>\n",
              "  </tbody>\n",
              "</table><p>"
            ]
          },
          "metadata": {}
        },
        {
          "output_type": "stream",
          "name": "stderr",
          "text": [
            "There were missing keys in the checkpoint model loaded: ['lm_head.weight'].\n"
          ]
        },
        {
          "output_type": "execute_result",
          "data": {
            "text/plain": [
              "TrainOutput(global_step=3000, training_loss=1.741147003173828, metrics={'train_runtime': 1208.7083, 'train_samples_per_second': 9.928, 'train_steps_per_second': 2.482, 'total_flos': 3135504384000000.0, 'train_loss': 1.741147003173828, 'epoch': 30.0})"
            ]
          },
          "metadata": {},
          "execution_count": 58
        }
      ]
    },
    {
      "cell_type": "code",
      "source": [
        " import matplotlib.pyplot as plt\n",
        "\n",
        "# Plotting the losses\n",
        "plt.figure(figsize=(12, 6))\n",
        "\n",
        "# Extract training losses from log history\n",
        "training_losses = [log['loss'] for log in trainer.state.log_history if 'loss' in log]\n",
        "plt.plot(training_losses, label='Training Loss', marker='o')\n",
        "\n",
        "# Extract evaluation losses from log history\n",
        "evaluation_losses = [log['eval_loss'] for log in trainer.state.log_history if 'eval_loss' in log]\n",
        "plt.plot(evaluation_losses, label='Validation Loss', marker='o')\n",
        "\n",
        "plt.title('Training and Validation Loss')\n",
        "plt.xlabel('Steps (or Epochs if evaluation is per epoch)')\n",
        "plt.ylabel('Loss')\n",
        "plt.legend()\n",
        "plt.grid()\n",
        "plt.show()"
      ],
      "metadata": {
        "id": "jZTfMojof6Qh"
      },
      "execution_count": null,
      "outputs": []
    },
    {
      "cell_type": "code",
      "source": [
        "# Save the fine-tuned model\n",
        "model.save_pretrained(model_output_path)\n",
        "\n",
        "# Save the tokenizer\n",
        "tokenizer.save_pretrained(model_output_path)\n",
        "\n",
        "print(f\"Model and tokenizer saved to {model_output_path}\")\n"
      ],
      "metadata": {
        "id": "drF9-oZwQLYl"
      },
      "execution_count": null,
      "outputs": []
    },
    {
      "cell_type": "markdown",
      "source": [
        "**Exercise 11: Test Model with user input prompts [2 Mark]**\n",
        "\n",
        "- Create `generate_response()` function that takes a trained *model*, *tokenizer*, and a *prompt* string as input and generates a response using the GPT-2 model\n",
        "\n",
        "- Test it with some user input prompts"
      ],
      "metadata": {
        "id": "4izo_-go8cDP"
      }
    },
    {
      "cell_type": "code",
      "source": [
        "def generate_response(model, tokenizer, prompt, max_length=200):\n",
        "    # Encode the input prompt and return tensor\n",
        "    inputs = tokenizer(prompt, return_tensors=\"pt\", padding=True, truncation=True)\n",
        "\n",
        "    # Generate response using the model\n",
        "    outputs = model.generate(\n",
        "        inputs['input_ids'],\n",
        "        attention_mask=inputs['attention_mask'],  # Use the attention mask\n",
        "        max_length=max_length,\n",
        "        num_return_sequences=1,\n",
        "        pad_token_id=tokenizer.eos_token_id  # Set the pad token ID\n",
        "    )\n",
        "\n",
        "    # Decode the generated response and return it\n",
        "    response = tokenizer.decode(outputs[0], skip_special_tokens=True)\n",
        "    return response\n"
      ],
      "metadata": {
        "id": "qeTKPArfgDJW"
      },
      "execution_count": null,
      "outputs": []
    },
    {
      "cell_type": "code",
      "source": [
        "# Example prompt to test the model\n",
        "prompt = \"What are the treatments for Psoriasis ?\"\n",
        "\n",
        "# Generate response\n",
        "response = generate_response(fine_tuned_model, fine_tuned_tokenizer, prompt)\n",
        "\n",
        "# Print the response\n",
        "print(\"Prompt:\", prompt)\n",
        "print(\"Response:\", response)\n"
      ],
      "metadata": {
        "id": "ic6yY2QEW4oB"
      },
      "execution_count": null,
      "outputs": []
    },
    {
      "cell_type": "code",
      "source": [
        "# Load the fine-tuned model and tokenizer\n",
        "from transformers import GPT2LMHeadModel, GPT2Tokenizer\n",
        "\n",
        "# Specify the output path where the model and tokenizer were saved\n",
        "model_output_path = \"/content/gpt_model\"\n",
        "\n",
        "# Load the fine-tuned model and tokenizer\n",
        "fine_tuned_model = GPT2LMHeadModel.from_pretrained(model_output_path)\n",
        "fine_tuned_tokenizer = GPT2Tokenizer.from_pretrained(model_output_path)\n",
        "\n",
        "# Confirm successful loading\n",
        "print(\"Model and tokenizer loaded successfully.\")\n"
      ],
      "metadata": {
        "id": "pJJ3bzD9fsJv"
      },
      "execution_count": null,
      "outputs": []
    },
    {
      "cell_type": "code",
      "source": [
        "# Testing with a sample prompt 2\n",
        "\n",
        "# Define a new sample prompt\n",
        "prompt = \"What to do when feeling sick??\"\n",
        "\n",
        "# Generate a response using the fine-tuned model and tokenizer\n",
        "response = generate_response(fine_tuned_model, fine_tuned_tokenizer, prompt)\n",
        "\n",
        "# Display the response\n",
        "print(\"Prompt:\", prompt)\n",
        "print(\"Response:\", response)\n"
      ],
      "metadata": {
        "id": "YsPCKruGuIa9"
      },
      "execution_count": null,
      "outputs": []
    },
    {
      "cell_type": "code",
      "source": [
        "# Testing with a sample prompt 2\n",
        "\n",
        "# Define a new sample prompt\n",
        "prompt = \"What to do after being diagnosed with cancer?\"\n",
        "\n",
        "# Generate a response using the fine-tuned model and tokenizer\n",
        "response = generate_response(fine_tuned_model, fine_tuned_tokenizer, prompt)\n",
        "\n",
        "# Display the response\n",
        "print(\"Prompt:\", prompt)\n",
        "print(\"Response:\", response)\n"
      ],
      "metadata": {
        "id": "dDQxKGFMuIa-"
      },
      "execution_count": null,
      "outputs": []
    },
    {
      "cell_type": "markdown",
      "source": [
        "**Exercise 12: Compare the performance of a *GPT2 model* with the *GPT2 model fine-tuned* on MedQuAD data [1 Mark]**\n",
        "\n",
        "- Load another pre-trained GPT2LMHeadModel and do not fine-tune it\n",
        "\n",
        "- To generate response using the untuned model, pass it as a parameter to `generate_response()` function\n",
        "\n",
        "- Test both models (fine-tuned and untuned) with below user input prompts:\n",
        "\n",
        "    - \"What precautions to take for a healthy life?\"\n",
        "    - \"What to do after being diagnosed with cancer?\"\n",
        "    - \"What to do when feeling sick?\""
      ],
      "metadata": {
        "id": "NO_AdtZc8ThO"
      }
    },
    {
      "cell_type": "code",
      "source": [
        "# Load a pre-trained GPT-2 model\n",
        "model_name = \"gpt2\"\n",
        "pretrained_model = GPT2LMHeadModel.from_pretrained(model_name)\n",
        "\n",
        "# Load the pre-trained GPT-2 tokenizer\n",
        "tokenizer = GPT2Tokenizer.from_pretrained(model_name)\n",
        "\n",
        "# Set the padding token to the end of sentence token\n",
        "tokenizer.pad_token = tokenizer.eos_token  # Set the padding token\n",
        "\n",
        "# Print confirmation\n",
        "print(\"Loaded pre-trained GPT-2 model and tokenizer successfully.\")\n"
      ],
      "metadata": {
        "id": "Nm27iM1KuPA5"
      },
      "execution_count": null,
      "outputs": []
    },
    {
      "cell_type": "code",
      "source": [
        "# Testing with the fine-tuned model\n",
        "prompt = \"What precautions to take for a healthy life?\"\n",
        "\n",
        "# Generate the response using the defined generate_response function\n",
        "response = generate_response(fine_tuned_model, fine_tuned_tokenizer, prompt)\n",
        "\n",
        "# Print the response\n",
        "print(response)"
      ],
      "metadata": {
        "id": "uSwlTDeOuPA7"
      },
      "execution_count": null,
      "outputs": []
    },
    {
      "cell_type": "code",
      "source": [
        "# Testing with untuned model: prompt 1\n",
        "\n",
        "# Define the prompt\n",
        "prompt = \"What precautions to take for a healthy life?\"\n",
        "\n",
        "# Generate the response using the untuned model and the generate_response function\n",
        "response = generate_response(pretrained_model, tokenizer, prompt)\n",
        "\n",
        "# Print the response\n",
        "print(\"Prompt:\", prompt)\n",
        "print(\"Response:\", response)\n"
      ],
      "metadata": {
        "id": "3cIBxOsbuPA8"
      },
      "execution_count": null,
      "outputs": []
    },
    {
      "cell_type": "code",
      "source": [
        "# Testing with finetuned model: prompt 2\n",
        "\n",
        "prompt = \"What to do after being diagnosed with cancer?\"\n",
        "# Generate the response using the defined generate_response function\n",
        "response = generate_response(fine_tuned_model, fine_tuned_tokenizer, prompt)\n",
        "\n",
        "# Print the response\n",
        "print(response)"
      ],
      "metadata": {
        "id": "eII-D_aPuPA-"
      },
      "execution_count": null,
      "outputs": []
    },
    {
      "cell_type": "code",
      "source": [
        "# Testing with untuned model: prompt 2\n",
        "\n",
        "prompt = \"What to do after being diagnosed with cancer?\"\n",
        "# Generate the response using the untuned model and the generate_response function\n",
        "response = generate_response(pretrained_model, tokenizer, prompt)\n",
        "\n",
        "# Print the response\n",
        "print(\"Prompt:\", prompt)\n",
        "print(\"Response:\", response)"
      ],
      "metadata": {
        "id": "GTNmxVRCuPA_"
      },
      "execution_count": null,
      "outputs": []
    },
    {
      "cell_type": "code",
      "source": [
        "# Testing with finetuned model: prompt 3\n",
        "\n",
        "prompt = \"What to do when feeling sick?\"\n",
        "# Generate the response using the defined generate_response function\n",
        "response = generate_response(fine_tuned_model, fine_tuned_tokenizer, prompt)\n",
        "\n",
        "# Print the response\n",
        "print(response)"
      ],
      "metadata": {
        "id": "C1DCcPleuPBA"
      },
      "execution_count": null,
      "outputs": []
    },
    {
      "cell_type": "code",
      "source": [
        "# Testing with untuned model: prompt 3\n",
        "\n",
        "prompt = \"What to do when feeling sick?\"\n",
        "response = generate_response(pretrained_model, tokenizer, prompt)\n",
        "\n",
        "# Print the response\n",
        "print(\"Prompt:\", prompt)\n",
        "print(\"Response:\", response)"
      ],
      "metadata": {
        "id": "eTi4zxbuuPBB"
      },
      "execution_count": null,
      "outputs": []
    },
    {
      "cell_type": "code",
      "source": [],
      "metadata": {
        "id": "NjKq4NdLc-Wr"
      },
      "execution_count": null,
      "outputs": []
    }
  ]
}